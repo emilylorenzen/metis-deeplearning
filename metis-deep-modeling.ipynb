{
 "cells": [
  {
   "cell_type": "code",
   "execution_count": 4,
   "metadata": {},
   "outputs": [],
   "source": [
    "import numpy as np\n",
    "import os\n",
    "import pandas as pd\n",
    "\n",
    "from sklearn.model_selection import train_test_split\n",
    "from sklearn.metrics import accuracy_score, recall_score, precision_score, roc_auc_score\n",
    "\n",
    "import keras\n",
    "from keras.preprocessing.image import ImageDataGenerator\n",
    "from keras.callbacks import TensorBoard\n",
    "from keras import metrics\n",
    "from keras.utils import np_utils\n",
    "from keras.utils.vis_utils import plot_model\n",
    "from keras.models import Sequential\n",
    "from keras.applications import mobilenet_v2\n",
    "from keras.applications.resnet50 import ResNet50\n",
    "from keras.preprocessing import image\n",
    "from keras.models import Model\n",
    "from keras.layers import LeakyReLU\n",
    "from keras.layers import ZeroPadding2D, Dropout, Dense, Conv2D, MaxPooling2D, Flatten, GlobalAveragePooling2D, InputLayer\n",
    "\n",
    "from keras_visualizer import visualizer \n"
   ]
  },
  {
   "cell_type": "code",
   "execution_count": 8,
   "metadata": {},
   "outputs": [],
   "source": [
    "df_image_MoA = pd.read_csv('df_image_MoA.csv')"
   ]
  },
  {
   "cell_type": "markdown",
   "metadata": {},
   "source": [
    "## Set up data input"
   ]
  },
  {
   "cell_type": "markdown",
   "metadata": {},
   "source": [
    "### Prepare images by converting PNGs to arrays"
   ]
  },
  {
   "cell_type": "code",
   "execution_count": 127,
   "metadata": {},
   "outputs": [],
   "source": [
    "def prepare_image(img_path):\n",
    "    \"\"\" Takes in an image number, loads the png, and converts to array\"\"\"\n",
    "    try:        \n",
    "        img = image.load_img('raw_images/'+str(img_path)+'.png', target_size=(224, 224))\n",
    "    except: \n",
    "        print(img_path)\n",
    "    else:\n",
    "        x = image.img_to_array(img)\n",
    "        x = np.expand_dims(x, axis=0)\n",
    "        x = mobilenet_v2.preprocess_input(x)\n",
    "        return x"
   ]
  },
  {
   "cell_type": "code",
   "execution_count": 18,
   "metadata": {
    "collapsed": true,
    "jupyter": {
     "outputs_hidden": true
    },
    "tags": []
   },
   "outputs": [
    {
     "name": "stdout",
     "output_type": "stream",
     "text": [
      "1000\n",
      "2000\n",
      "3000\n",
      "4000\n",
      "5000\n",
      "6000\n",
      "7000\n",
      "8000\n",
      "9000\n",
      "10000\n",
      "11000\n",
      "12000\n",
      "13000\n",
      "14000\n",
      "15000\n",
      "16000\n",
      "17000\n",
      "18000\n",
      "19000\n",
      "20000\n",
      "21000\n",
      "22000\n",
      "23000\n",
      "24000\n",
      "25000\n",
      "11435497\n",
      "26000\n",
      "11435498\n"
     ]
    }
   ],
   "source": [
    "# Get list of images\n",
    "image_list = list(df_image_MoA.Image)\n",
    "\n",
    "# Loop through images and collect propessed arrays into list\n",
    "array_list = []\n",
    "for image_ in image_list:\n",
    "    array_list.append(prepare_image(image_))\n",
    "    \n"
   ]
  },
  {
   "cell_type": "code",
   "execution_count": 19,
   "metadata": {},
   "outputs": [],
   "source": [
    "image_array = np.vstack(array_list[0:25998])"
   ]
  },
  {
   "cell_type": "code",
   "execution_count": 132,
   "metadata": {},
   "outputs": [],
   "source": [
    "np.save('image_array', image_array, allow_pickle = True)"
   ]
  },
  {
   "cell_type": "code",
   "execution_count": 9,
   "metadata": {},
   "outputs": [],
   "source": [
    "image_array = np.load('image_array.npy')"
   ]
  },
  {
   "cell_type": "markdown",
   "metadata": {},
   "source": [
    "### Define the y-target (mechanism of action) of interest and create train-val-test splits"
   ]
  },
  {
   "cell_type": "markdown",
   "metadata": {},
   "source": [
    "Methods used for test-train split\n",
    "1. sklearn train-test split, Keras validation split\n",
    "    - Keras only takes the last part of data, does not shuffle\n",
    "2. sklearn train-test split, sklearrn train-validation split\n",
    "    - Uneven number of target and non-target class\n",
    "3. Stratify the train-test split and train-validation split\n",
    "    - Equal number of target and non-target class "
   ]
  },
  {
   "cell_type": "markdown",
   "metadata": {},
   "source": [
    "Methods used for category encodin\n",
    "1. One-hot encoding using np_utils.to_categorical\n",
    "    - Creates an (x,2) array \n",
    "    - Resulted in having an equal number of true positives and true negatives in the validation data. \n",
    "    - True positives + false positives = total data set\n",
    "2. "
   ]
  },
  {
   "cell_type": "code",
   "execution_count": 10,
   "metadata": {},
   "outputs": [],
   "source": [
    "def get_MoA(MoA):\n",
    "    \"\"\"Returns train-test split stratified on target class(MoA)\"\"\"    \n",
    "    df_image_MoA['Category'] = np.where(df_image_MoA['Compound MoA'] == MoA, 1, 0)\n",
    "    \n",
    "    # Assign X and y \n",
    "    X_ = image_array\n",
    "    y_ = df_image_MoA['Category'][0:25998]\n",
    "\n",
    "    # Train-test split\n",
    "    X_train_, X_test, y_train_, y_test = (train_test_split(X_, y_, \n",
    "                                                     test_size = .2, random_state = 22, stratify = y_))\n",
    "    y_test = y_test.astype('float32')\n",
    "    \n",
    "    X_train, X_valid, y_train, y_valid = (train_test_split(X_train_, y_train_, \n",
    "                                                     test_size = .25, random_state = 22, stratify = y_train_))\n",
    "    \n",
    "    y_train = y_train.astype('float32')\n",
    "    y_valid = y_valid.astype('float32')\n",
    "    return X_train, y_train, X_test, y_test, X_valid, y_valid"
   ]
  },
  {
   "cell_type": "code",
   "execution_count": 11,
   "metadata": {
    "tags": []
   },
   "outputs": [],
   "source": [
    "X_train, y_train_cat, X_test, y_test_cat, X_valid, y_valid_cat = get_MoA('GPCR agonist')"
   ]
  },
  {
   "cell_type": "markdown",
   "metadata": {},
   "source": [
    "Check the shape of each split"
   ]
  },
  {
   "cell_type": "code",
   "execution_count": 12,
   "metadata": {},
   "outputs": [],
   "source": [
    "# Need to convert y labels from series to numpy arrays\n",
    "y_test_array = y_test_cat.to_numpy()\n",
    "y_train_array = y_train_cat.to_numpy()\n",
    "y_valid_array = y_valid_cat.to_numpy()"
   ]
  },
  {
   "cell_type": "markdown",
   "metadata": {},
   "source": [
    "## Test different hyperparameters on a CNN\n",
    "\n",
    "### First set of experiments\n",
    "#### CNN models from scratch\n",
    "1. NN_scratch - initial attempt\n",
    "    - Did not do better than chance\n",
    "2. NN_scratch1 - add convolution layer\n",
    "    - Did not do better than chance\n",
    "3. NN_scratch2 - add dense layer \n",
    "    - Did not do better than chance\n",
    "4. NN_scratch3 - change activation functions from ReLU to LeakyReLU\n",
    "    - This helped very slightly\n",
    "5. NN_scratch4 - add in class weights to address class imbalances\n",
    "    - This seems to be key to allow some learning from the CNN\n",
    "\n",
    "#### CNN models with transfer learning\n",
    "NN_trans - mobilenet2 pre-trained model\n",
    "    - No better than chance\n",
    "NN_trans - resnet50 pre-trained model\n",
    "    - No better than chance\n",
    "    \n",
    "### Second set of experiments\n",
    "\n",
    "#### CNN models from scratch\n",
    "Repeat NN_scratch, NN_scratch1, NN_scratch2, and NN_scratch3 with class imbalances\n",
    "\n",
    "1. NN_scratch \n",
    "    - Best epoch: 2, AUC_PR = 0.739\n",
    "2. NN_scratch1 - add convolution layer\n",
    "    - Just horrible, never found true positives\n",
    "3. NN_scratch2 - add dense layer\n",
    "    - Best epoch: 0.0703 \n",
    "4. NN_scratch3 - change activation function from ReLU to LeakyReLU\n",
    "    - \n",
    "\n"
   ]
  },
  {
   "cell_type": "code",
   "execution_count": 124,
   "metadata": {},
   "outputs": [],
   "source": [
    "tensorboard = TensorBoard(log_dir = 'logs/NN_scratch')"
   ]
  },
  {
   "cell_type": "code",
   "execution_count": 19,
   "metadata": {},
   "outputs": [],
   "source": [
    "metrics_ = [metrics.AUC(curve='ROC'), metrics.AUC(curve = 'PR'), metrics.Recall(), metrics.Precision(), metrics.PrecisionAtRecall(0.5), metrics.TruePositives(), metrics.TrueNegatives(), metrics.FalseNegatives(), metrics.FalsePositives()]\n",
    "class_weights = {0:1, 1:15}"
   ]
  },
  {
   "cell_type": "code",
   "execution_count": 90,
   "metadata": {},
   "outputs": [],
   "source": [
    "class_weights = {0:1, 1:15}\n",
    "NN_scratch = Sequential(\n",
    "                        [InputLayer(input_shape=X_train.shape[1:]),\n",
    "                         Conv2D(filters=32, kernel_size=3, activation='relu', padding='same'),\n",
    "                         MaxPooling2D(),\n",
    "                         Conv2D(filters=64, kernel_size=3, activation='relu', padding='same'),\n",
    "                         MaxPooling2D(),\n",
    "                         Flatten(),\n",
    "                         Dense(32, activation='relu'),\n",
    "                         Dropout(0.20),\n",
    "                         Dense(1, activation='sigmoid')]\n",
    "                       )\n",
    "\n",
    "NN_scratch.compile(\n",
    "    loss='binary_crossentropy',\n",
    "    optimizer='adam',\n",
    "    metrics = metrics_,\n",
    ")\n"
   ]
  },
  {
   "cell_type": "code",
   "execution_count": 126,
   "metadata": {
    "collapsed": true,
    "jupyter": {
     "outputs_hidden": true
    },
    "tags": []
   },
   "outputs": [
    {
     "name": "stdout",
     "output_type": "stream",
     "text": [
      "Epoch 1/10\n",
      "156/156 [==============================] - 483s 3s/step - loss: 0.2718 - auc_2: 0.9852 - auc_3: 0.9119 - recall_1: 0.9249 - precision_1: 0.4359 - precision_at_recall_1: 0.9984 - true_positives_1: 911.0000 - true_negatives_1: 13434.0000 - false_negatives_1: 74.0000 - false_positives_1: 1179.0000 - val_loss: 0.6571 - val_auc_2: 0.5133 - val_auc_3: 0.0656 - val_recall_1: 0.2287 - val_precision_1: 0.0673 - val_precision_at_recall_1: 0.0666 - val_true_positives_1: 75.0000 - val_true_negatives_1: 3832.0000 - val_false_negatives_1: 253.0000 - val_false_positives_1: 1040.0000\n",
      "Epoch 2/10\n",
      "156/156 [==============================] - 500s 3s/step - loss: 0.2660 - auc_2: 0.9857 - auc_3: 0.9136 - recall_1: 0.9431 - precision_1: 0.3968 - precision_at_recall_1: 1.0000 - true_positives_1: 929.0000 - true_negatives_1: 13201.0000 - false_negatives_1: 56.0000 - false_positives_1: 1412.0000 - val_loss: 0.5644 - val_auc_2: 0.5141 - val_auc_3: 0.0680 - val_recall_1: 0.2165 - val_precision_1: 0.0785 - val_precision_at_recall_1: 0.0657 - val_true_positives_1: 71.0000 - val_true_negatives_1: 4039.0000 - val_false_negatives_1: 257.0000 - val_false_positives_1: 833.0000\n",
      "Epoch 3/10\n",
      "156/156 [==============================] - 502s 3s/step - loss: 0.2678 - auc_2: 0.9845 - auc_3: 0.9082 - recall_1: 0.9127 - precision_1: 0.4337 - precision_at_recall_1: 1.0000 - true_positives_1: 899.0000 - true_negatives_1: 13439.0000 - false_negatives_1: 86.0000 - false_positives_1: 1174.0000 - val_loss: 0.6417 - val_auc_2: 0.5125 - val_auc_3: 0.0662 - val_recall_1: 0.2378 - val_precision_1: 0.0720 - val_precision_at_recall_1: 0.0665 - val_true_positives_1: 78.0000 - val_true_negatives_1: 3867.0000 - val_false_negatives_1: 250.0000 - val_false_positives_1: 1005.0000\n",
      "Epoch 4/10\n",
      "156/156 [==============================] - 424s 3s/step - loss: 0.2873 - auc_2: 0.9839 - auc_3: 0.9096 - recall_1: 0.9421 - precision_1: 0.3833 - precision_at_recall_1: 1.0000 - true_positives_1: 928.0000 - true_negatives_1: 13120.0000 - false_negatives_1: 57.0000 - false_positives_1: 1493.0000 - val_loss: 0.5450 - val_auc_2: 0.5160 - val_auc_3: 0.0667 - val_recall_1: 0.2012 - val_precision_1: 0.0779 - val_precision_at_recall_1: 0.0661 - val_true_positives_1: 66.0000 - val_true_negatives_1: 4091.0000 - val_false_negatives_1: 262.0000 - val_false_positives_1: 781.0000\n",
      "Epoch 5/10\n",
      "156/156 [==============================] - 371s 2s/step - loss: 0.2529 - auc_2: 0.9872 - auc_3: 0.9193 - recall_1: 0.9381 - precision_1: 0.4256 - precision_at_recall_1: 1.0000 - true_positives_1: 924.0000 - true_negatives_1: 13366.0000 - false_negatives_1: 61.0000 - false_positives_1: 1247.0000 - val_loss: 0.6393 - val_auc_2: 0.5231 - val_auc_3: 0.0681 - val_recall_1: 0.2043 - val_precision_1: 0.0771 - val_precision_at_recall_1: 0.0686 - val_true_positives_1: 67.0000 - val_true_negatives_1: 4070.0000 - val_false_negatives_1: 261.0000 - val_false_positives_1: 802.0000\n",
      "Epoch 6/10\n",
      "156/156 [==============================] - 432s 3s/step - loss: 0.2595 - auc_2: 0.9856 - auc_3: 0.9136 - recall_1: 0.9249 - precision_1: 0.4247 - precision_at_recall_1: 0.9987 - true_positives_1: 911.0000 - true_negatives_1: 13379.0000 - false_negatives_1: 74.0000 - false_positives_1: 1234.0000 - val_loss: 0.6951 - val_auc_2: 0.5134 - val_auc_3: 0.0644 - val_recall_1: 0.2348 - val_precision_1: 0.0701 - val_precision_at_recall_1: 0.0666 - val_true_positives_1: 77.0000 - val_true_negatives_1: 3851.0000 - val_false_negatives_1: 251.0000 - val_false_positives_1: 1021.0000\n",
      "Epoch 7/10\n",
      "156/156 [==============================] - 494s 3s/step - loss: 0.2347 - auc_2: 0.9884 - auc_3: 0.9253 - recall_1: 0.9462 - precision_1: 0.4016 - precision_at_recall_1: 1.0000 - true_positives_1: 932.0000 - true_negatives_1: 13224.0000 - false_negatives_1: 53.0000 - false_positives_1: 1389.0000 - val_loss: 0.6887 - val_auc_2: 0.5046 - val_auc_3: 0.0647 - val_recall_1: 0.1860 - val_precision_1: 0.0773 - val_precision_at_recall_1: 0.0633 - val_true_positives_1: 61.0000 - val_true_negatives_1: 4144.0000 - val_false_negatives_1: 267.0000 - val_false_positives_1: 728.0000\n",
      "Epoch 8/10\n",
      "156/156 [==============================] - 484s 3s/step - loss: 0.2191 - auc_2: 0.9894 - auc_3: 0.9280 - recall_1: 0.9239 - precision_1: 0.4710 - precision_at_recall_1: 1.0000 - true_positives_1: 910.0000 - true_negatives_1: 13591.0000 - false_negatives_1: 75.0000 - false_positives_1: 1022.0000 - val_loss: 0.7254 - val_auc_2: 0.5143 - val_auc_3: 0.0650 - val_recall_1: 0.2378 - val_precision_1: 0.0720 - val_precision_at_recall_1: 0.0661 - val_true_positives_1: 78.0000 - val_true_negatives_1: 3866.0000 - val_false_negatives_1: 250.0000 - val_false_positives_1: 1006.0000\n",
      "Epoch 9/10\n",
      "156/156 [==============================] - 384s 2s/step - loss: 0.2522 - auc_2: 0.9859 - auc_3: 0.9141 - recall_1: 0.9228 - precision_1: 0.4212 - precision_at_recall_1: 0.9986 - true_positives_1: 909.0000 - true_negatives_1: 13364.0000 - false_negatives_1: 76.0000 - false_positives_1: 1249.0000 - val_loss: 0.7250 - val_auc_2: 0.5073 - val_auc_3: 0.0663 - val_recall_1: 0.2165 - val_precision_1: 0.0797 - val_precision_at_recall_1: 0.0632 - val_true_positives_1: 71.0000 - val_true_negatives_1: 4052.0000 - val_false_negatives_1: 257.0000 - val_false_positives_1: 820.0000\n",
      "Epoch 10/10\n",
      "156/156 [==============================] - 353s 2s/step - loss: 0.2239 - auc_2: 0.9881 - auc_3: 0.9243 - recall_1: 0.9228 - precision_1: 0.4617 - precision_at_recall_1: 1.0000 - true_positives_1: 909.0000 - true_negatives_1: 13553.0000 - false_negatives_1: 76.0000 - false_positives_1: 1060.0000 - val_loss: 0.7218 - val_auc_2: 0.5076 - val_auc_3: 0.0650 - val_recall_1: 0.2165 - val_precision_1: 0.0720 - val_precision_at_recall_1: 0.0632 - val_true_positives_1: 71.0000 - val_true_negatives_1: 3957.0000 - val_false_negatives_1: 257.0000 - val_false_positives_1: 915.0000\n"
     ]
    },
    {
     "data": {
      "text/plain": [
       "<keras.callbacks.History at 0x7f886720c8e0>"
      ]
     },
     "execution_count": 126,
     "metadata": {},
     "output_type": "execute_result"
    }
   ],
   "source": [
    "NN_scratch.fit(X_train, y_train_array, epochs=10, verbose=1, batch_size = 100, class_weight = class_weights, validation_data = (X_valid, y_valid_array), callbacks=[tensorboard])"
   ]
  },
  {
   "cell_type": "code",
   "execution_count": 127,
   "metadata": {},
   "outputs": [
    {
     "name": "stdout",
     "output_type": "stream",
     "text": [
      "163/163 [==============================] - 37s 195ms/step - loss: 0.7319 - auc_2: 0.5124 - auc_3: 0.0657 - recall_1: 0.2317 - precision_1: 0.0772 - precision_at_recall_1: 0.0632 - true_positives_1: 76.0000 - true_negatives_1: 3963.0000 - false_negatives_1: 252.0000 - false_positives_1: 909.0000\n",
      "[0.7319303750991821, 0.5124326944351196, 0.06565071642398834, 0.23170731961727142, 0.07715736329555511, 0.06317411363124847, 76.0, 3963.0, 252.0, 909.0]\n"
     ]
    }
   ],
   "source": [
    "results = NN_scratch.evaluate(X_test, y_test)\n",
    "print(results)"
   ]
  },
  {
   "cell_type": "code",
   "execution_count": 94,
   "metadata": {},
   "outputs": [
    {
     "data": {
      "text/plain": [
       "0.936923076923077"
      ]
     },
     "execution_count": 94,
     "metadata": {},
     "output_type": "execute_result"
    }
   ],
   "source": [
    "accuracy_score(y_test, np.argmax(NN_scratch.predict(X_test), axis = -1))"
   ]
  },
  {
   "cell_type": "code",
   "execution_count": 95,
   "metadata": {},
   "outputs": [
    {
     "data": {
      "text/plain": [
       "0.0"
      ]
     },
     "execution_count": 95,
     "metadata": {},
     "output_type": "execute_result"
    }
   ],
   "source": [
    "recall_score(y_test, np.argmax(NN_scratch.predict(X_test), axis = -1))"
   ]
  },
  {
   "cell_type": "code",
   "execution_count": 96,
   "metadata": {},
   "outputs": [
    {
     "data": {
      "text/plain": [
       "0.5"
      ]
     },
     "execution_count": 96,
     "metadata": {},
     "output_type": "execute_result"
    }
   ],
   "source": [
    "roc_auc_score(y_test, np.argmax(NN_scratch.predict(X_test), axis = -1))"
   ]
  },
  {
   "cell_type": "markdown",
   "metadata": {},
   "source": [
    "Add a convolution filter of 128 "
   ]
  },
  {
   "cell_type": "code",
   "execution_count": 97,
   "metadata": {
    "tags": []
   },
   "outputs": [],
   "source": [
    "# Add convolution filter\n",
    "\n",
    "NN_scratch1 = Sequential(\n",
    "                        [InputLayer(input_shape=X_train.shape[1:]),\n",
    "                         Conv2D(filters=32, kernel_size=3, activation='relu', padding='same'),\n",
    "                         MaxPooling2D(),\n",
    "                         Conv2D(filters=64, kernel_size=3, activation='relu', padding='same'),\n",
    "                         MaxPooling2D(),\n",
    "                         Conv2D(filters=128, kernel_size=3, activation='relu', padding='same'),\n",
    "                         MaxPooling2D(),\n",
    "                         Flatten(),\n",
    "                         Dense(32, activation='relu'),\n",
    "                         Dropout(0.20),\n",
    "                         Dense(1, activation='sigmoid')]\n",
    "                       )\n",
    "\n",
    "NN_scratch1.compile(\n",
    "    loss='binary_crossentropy',\n",
    "    optimizer='adam',\n",
    "    metrics=metrics_,\n",
    ")"
   ]
  },
  {
   "cell_type": "code",
   "execution_count": 98,
   "metadata": {
    "tags": []
   },
   "outputs": [
    {
     "name": "stdout",
     "output_type": "stream",
     "text": [
      "Epoch 1/10\n",
      "125/125 [==============================] - 385s 3s/step - loss: 1.4159 - auc_2: 0.5122 - auc_3: 0.0650 - recall_1: 0.4954 - precision_1: 0.0679 - precision_at_recall_1: 0.0681 - true_positives_1: 398.1429 - true_negatives_1: 5192.3968 - false_negatives_1: 345.6190 - false_positives_1: 5612.6984 - val_loss: 0.6930 - val_auc_2: 0.5000 - val_auc_3: 0.0641 - val_recall_1: 0.0000e+00 - val_precision_1: 0.0000e+00 - val_precision_at_recall_1: 0.0641 - val_true_positives_1: 0.0000e+00 - val_true_negatives_1: 2920.0000 - val_false_negatives_1: 200.0000 - val_false_positives_1: 0.0000e+00\n",
      "Epoch 2/10\n",
      "125/125 [==============================] - 412s 3s/step - loss: 1.3424 - auc_2: 0.5000 - auc_3: 0.0669 - recall_1: 0.5335 - precision_1: 0.0558 - precision_at_recall_1: 0.0669 - true_positives_1: 271.9841 - true_negatives_1: 1901.3095 - false_negatives_1: 141.5476 - false_positives_1: 4034.0159 - val_loss: 0.6933 - val_auc_2: 0.5000 - val_auc_3: 0.0641 - val_recall_1: 1.0000 - val_precision_1: 0.0641 - val_precision_at_recall_1: 0.0641 - val_true_positives_1: 200.0000 - val_true_negatives_1: 0.0000e+00 - val_false_negatives_1: 0.0000e+00 - val_false_positives_1: 2920.0000\n",
      "Epoch 3/10\n",
      "125/125 [==============================] - 385s 3s/step - loss: 1.2956 - auc_2: 0.5000 - auc_3: 0.0621 - recall_1: 0.2527 - precision_1: 0.0502 - precision_at_recall_1: 0.0621 - true_positives_1: 119.9365 - true_negatives_1: 3890.9524 - false_negatives_1: 280.4762 - false_positives_1: 2057.4921 - val_loss: 0.6935 - val_auc_2: 0.5000 - val_auc_3: 0.0641 - val_recall_1: 1.0000 - val_precision_1: 0.0641 - val_precision_at_recall_1: 0.0641 - val_true_positives_1: 200.0000 - val_true_negatives_1: 0.0000e+00 - val_false_negatives_1: 0.0000e+00 - val_false_positives_1: 2920.0000\n",
      "Epoch 4/10\n",
      "125/125 [==============================] - 383s 3s/step - loss: 1.2704 - auc_2: 0.4914 - auc_3: 0.0584 - recall_1: 0.2687 - precision_1: 0.0539 - precision_at_recall_1: 0.0595 - true_positives_1: 76.2937 - true_negatives_1: 4673.3413 - false_negatives_1: 310.7857 - false_positives_1: 1288.4365 - val_loss: 0.6941 - val_auc_2: 0.5000 - val_auc_3: 0.0641 - val_recall_1: 1.0000 - val_precision_1: 0.0641 - val_precision_at_recall_1: 0.0641 - val_true_positives_1: 200.0000 - val_true_negatives_1: 0.0000e+00 - val_false_negatives_1: 0.0000e+00 - val_false_positives_1: 2920.0000\n",
      "Epoch 5/10\n",
      "125/125 [==============================] - 409s 3s/step - loss: 1.2536 - auc_2: 0.5000 - auc_3: 0.0577 - recall_1: 0.2828 - precision_1: 0.0439 - precision_at_recall_1: 0.0577 - true_positives_1: 97.6111 - true_negatives_1: 4147.1111 - false_negatives_1: 289.3968 - false_positives_1: 1814.7381 - val_loss: 0.6944 - val_auc_2: 0.5000 - val_auc_3: 0.0641 - val_recall_1: 1.0000 - val_precision_1: 0.0641 - val_precision_at_recall_1: 0.0641 - val_true_positives_1: 200.0000 - val_true_negatives_1: 0.0000e+00 - val_false_negatives_1: 0.0000e+00 - val_false_positives_1: 2920.0000\n",
      "Epoch 6/10\n",
      "125/125 [==============================] - 436s 3s/step - loss: 1.3132 - auc_2: 0.5000 - auc_3: 0.0639 - recall_1: 1.0000 - precision_1: 0.0639 - precision_at_recall_1: 0.0639 - true_positives_1: 398.3413 - true_negatives_1: 0.0000e+00 - false_negatives_1: 0.0000e+00 - false_positives_1: 5950.5159 - val_loss: 0.6953 - val_auc_2: 0.5000 - val_auc_3: 0.0641 - val_recall_1: 1.0000 - val_precision_1: 0.0641 - val_precision_at_recall_1: 0.0641 - val_true_positives_1: 200.0000 - val_true_negatives_1: 0.0000e+00 - val_false_negatives_1: 0.0000e+00 - val_false_positives_1: 2920.0000\n",
      "Epoch 7/10\n",
      "125/125 [==============================] - 463s 4s/step - loss: 1.3263 - auc_2: 0.4959 - auc_3: 0.0647 - recall_1: 1.0000 - precision_1: 0.0653 - precision_at_recall_1: 0.0653 - true_positives_1: 413.3333 - true_negatives_1: 0.0000e+00 - false_negatives_1: 0.0000e+00 - false_positives_1: 5935.5238 - val_loss: 0.6956 - val_auc_2: 0.5000 - val_auc_3: 0.0641 - val_recall_1: 1.0000 - val_precision_1: 0.0641 - val_precision_at_recall_1: 0.0641 - val_true_positives_1: 200.0000 - val_true_negatives_1: 0.0000e+00 - val_false_negatives_1: 0.0000e+00 - val_false_positives_1: 2920.0000\n",
      "Epoch 8/10\n",
      "125/125 [==============================] - 446s 4s/step - loss: 1.3220 - auc_2: 0.5000 - auc_3: 0.0648 - recall_1: 1.0000 - precision_1: 0.0648 - precision_at_recall_1: 0.0648 - true_positives_1: 402.8810 - true_negatives_1: 0.0000e+00 - false_negatives_1: 0.0000e+00 - false_positives_1: 5945.9762 - val_loss: 0.6945 - val_auc_2: 0.5000 - val_auc_3: 0.0641 - val_recall_1: 1.0000 - val_precision_1: 0.0641 - val_precision_at_recall_1: 0.0641 - val_true_positives_1: 200.0000 - val_true_negatives_1: 0.0000e+00 - val_false_negatives_1: 0.0000e+00 - val_false_positives_1: 2920.0000\n",
      "Epoch 9/10\n",
      "125/125 [==============================] - 420s 3s/step - loss: 1.3279 - auc_2: 0.4992 - auc_3: 0.0655 - recall_1: 1.0000 - precision_1: 0.0654 - precision_at_recall_1: 0.0654 - true_positives_1: 412.9444 - true_negatives_1: 0.0000e+00 - false_negatives_1: 0.0000e+00 - false_positives_1: 5935.9127 - val_loss: 0.6960 - val_auc_2: 0.5000 - val_auc_3: 0.0641 - val_recall_1: 1.0000 - val_precision_1: 0.0641 - val_precision_at_recall_1: 0.0641 - val_true_positives_1: 200.0000 - val_true_negatives_1: 0.0000e+00 - val_false_negatives_1: 0.0000e+00 - val_false_positives_1: 2920.0000\n",
      "Restoring model weights from the end of the best epoch.\n",
      "Epoch 00009: early stopping\n"
     ]
    },
    {
     "data": {
      "text/plain": [
       "<keras.callbacks.History at 0x7f92786590a0>"
      ]
     },
     "execution_count": 98,
     "metadata": {},
     "output_type": "execute_result"
    }
   ],
   "source": [
    "NN_scratch1.fit(X_train, y_train_array, epochs=10, verbose=1, batch_size = 100, validation_split=0.2, class_weight = class_weights, validation_data = (X_valid, y_valid_array), callbacks=[\n",
    "        keras.callbacks.EarlyStopping(patience=8, verbose=1, restore_best_weights=True)])"
   ]
  },
  {
   "cell_type": "code",
   "execution_count": 128,
   "metadata": {},
   "outputs": [
    {
     "name": "stdout",
     "output_type": "stream",
     "text": [
      "163/163 [==============================] - 43s 249ms/step - loss: 0.6930 - auc_2: 0.5000 - auc_3: 0.0631 - recall_1: 0.0000e+00 - precision_1: 0.0000e+00 - precision_at_recall_1: 0.0631 - true_positives_1: 0.0000e+00 - true_negatives_1: 4872.0000 - false_negatives_1: 328.0000 - false_positives_1: 0.0000e+00\n",
      "[0.6929770708084106, 0.5, 0.0630769208073616, 0.0, 0.0, 0.0630769208073616, 0.0, 4872.0, 328.0, 0.0]\n"
     ]
    }
   ],
   "source": [
    "results = NN_scratch1.evaluate(X_test, y_test)\n",
    "print(results)"
   ]
  },
  {
   "cell_type": "code",
   "execution_count": 99,
   "metadata": {
    "tags": []
   },
   "outputs": [
    {
     "data": {
      "text/plain": [
       "0.936923076923077"
      ]
     },
     "execution_count": 99,
     "metadata": {},
     "output_type": "execute_result"
    }
   ],
   "source": [
    "accuracy_score(y_test, np.argmax(NN_scratch1.predict(X_test), axis = -1))"
   ]
  },
  {
   "cell_type": "code",
   "execution_count": 100,
   "metadata": {},
   "outputs": [
    {
     "data": {
      "text/plain": [
       "0.0"
      ]
     },
     "execution_count": 100,
     "metadata": {},
     "output_type": "execute_result"
    }
   ],
   "source": [
    "recall_score(y_test, np.argmax(NN_scratch1.predict(X_test), axis = -1))"
   ]
  },
  {
   "cell_type": "code",
   "execution_count": 101,
   "metadata": {},
   "outputs": [
    {
     "data": {
      "text/plain": [
       "0.5"
      ]
     },
     "execution_count": 101,
     "metadata": {},
     "output_type": "execute_result"
    }
   ],
   "source": [
    "roc_auc_score(y_test, np.argmax(NN_scratch1.predict(X_test), axis = -1))"
   ]
  },
  {
   "cell_type": "markdown",
   "metadata": {},
   "source": [
    "Add a dense layer of 16"
   ]
  },
  {
   "cell_type": "code",
   "execution_count": 102,
   "metadata": {},
   "outputs": [],
   "source": [
    "# Add dense layer \n",
    "\n",
    "NN_scratch2 = Sequential(\n",
    "                        [InputLayer(input_shape=X_train.shape[1:]),\n",
    "                         Conv2D(filters=32, kernel_size=3, activation='relu', padding='same'),\n",
    "                         MaxPooling2D(),\n",
    "                         Conv2D(filters=64, kernel_size=3, activation='relu', padding='same'),\n",
    "                         MaxPooling2D(),\n",
    "                         Flatten(),\n",
    "                         Dense(32, activation='relu'),\n",
    "                         Dense(16, activation='relu'),\n",
    "                         Dropout(0.20),\n",
    "                         Dense(1, activation='sigmoid')]\n",
    "                       )\n",
    "\n",
    "\n",
    "NN_scratch2.compile(\n",
    "    loss='binary_crossentropy',\n",
    "    optimizer='adam',\n",
    "    metrics=metrics_,\n",
    ")"
   ]
  },
  {
   "cell_type": "code",
   "execution_count": 103,
   "metadata": {},
   "outputs": [
    {
     "name": "stdout",
     "output_type": "stream",
     "text": [
      "Epoch 1/10\n",
      "156/156 [==============================] - 407s 3s/step - loss: 2.2919 - auc_2: 0.5036 - auc_3: 0.0620 - recall_1: 0.8477 - precision_1: 0.0635 - precision_at_recall_1: 0.0642 - true_positives_1: 581.0573 - true_negatives_1: 1734.0637 - false_negatives_1: 111.8917 - false_positives_1: 8592.3248 - val_loss: 0.6974 - val_auc_2: 0.4999 - val_auc_3: 0.0630 - val_recall_1: 1.0000 - val_precision_1: 0.0631 - val_precision_at_recall_1: 0.0631 - val_true_positives_1: 328.0000 - val_true_negatives_1: 0.0000e+00 - val_false_negatives_1: 0.0000e+00 - val_false_positives_1: 4872.0000\n",
      "Epoch 2/10\n",
      "156/156 [==============================] - 417s 3s/step - loss: 1.3019 - auc_2: 0.4958 - auc_3: 0.0636 - recall_1: 0.9683 - precision_1: 0.0624 - precision_at_recall_1: 0.0627 - true_positives_1: 481.6497 - true_negatives_1: 259.6306 - false_negatives_1: 20.5732 - false_positives_1: 7137.4841 - val_loss: 0.6952 - val_auc_2: 0.5001 - val_auc_3: 0.0631 - val_recall_1: 1.0000 - val_precision_1: 0.0631 - val_precision_at_recall_1: 0.0631 - val_true_positives_1: 328.0000 - val_true_negatives_1: 2.0000 - val_false_negatives_1: 0.0000e+00 - val_false_positives_1: 4870.0000\n",
      "Epoch 3/10\n",
      "156/156 [==============================] - 402s 3s/step - loss: 1.3169 - auc_2: 0.5047 - auc_3: 0.0651 - recall_1: 0.9120 - precision_1: 0.0651 - precision_at_recall_1: 0.0646 - true_positives_1: 448.2803 - true_negatives_1: 967.0892 - false_negatives_1: 55.9682 - false_positives_1: 6428.0000 - val_loss: 0.6981 - val_auc_2: 0.5065 - val_auc_3: 0.0639 - val_recall_1: 1.0000 - val_precision_1: 0.0632 - val_precision_at_recall_1: 0.0639 - val_true_positives_1: 328.0000 - val_true_negatives_1: 8.0000 - val_false_negatives_1: 0.0000e+00 - val_false_positives_1: 4864.0000\n",
      "Epoch 4/10\n",
      "156/156 [==============================] - 399s 3s/step - loss: 1.2608 - auc_2: 0.4824 - auc_3: 0.0562 - recall_1: 0.4078 - precision_1: 0.0523 - precision_at_recall_1: 0.0587 - true_positives_1: 195.5924 - true_negatives_1: 4122.2038 - false_negatives_1: 281.4713 - false_positives_1: 3300.0701 - val_loss: 0.6791 - val_auc_2: 0.5061 - val_auc_3: 0.0659 - val_recall_1: 0.5457 - val_precision_1: 0.0609 - val_precision_at_recall_1: 0.0641 - val_true_positives_1: 179.0000 - val_true_negatives_1: 2113.0000 - val_false_negatives_1: 149.0000 - val_false_positives_1: 2759.0000\n",
      "Epoch 5/10\n",
      "156/156 [==============================] - 409s 3s/step - loss: 1.3124 - auc_2: 0.5135 - auc_3: 0.0712 - recall_1: 0.8645 - precision_1: 0.0635 - precision_at_recall_1: 0.0650 - true_positives_1: 433.8344 - true_negatives_1: 1001.3121 - false_negatives_1: 64.9936 - false_positives_1: 6399.1975 - val_loss: 0.6887 - val_auc_2: 0.5214 - val_auc_3: 0.0703 - val_recall_1: 0.6921 - val_precision_1: 0.0641 - val_precision_at_recall_1: 0.0636 - val_true_positives_1: 227.0000 - val_true_negatives_1: 1557.0000 - val_false_negatives_1: 101.0000 - val_false_positives_1: 3315.0000\n",
      "Epoch 6/10\n",
      "156/156 [==============================] - 381s 2s/step - loss: 1.2898 - auc_2: 0.5301 - auc_3: 0.0723 - recall_1: 0.5745 - precision_1: 0.0653 - precision_at_recall_1: 0.0668 - true_positives_1: 312.6752 - true_negatives_1: 3053.1720 - false_negatives_1: 185.0701 - false_positives_1: 4348.4204 - val_loss: 0.6714 - val_auc_2: 0.5167 - val_auc_3: 0.0668 - val_recall_1: 0.6860 - val_precision_1: 0.0622 - val_precision_at_recall_1: 0.0646 - val_true_positives_1: 225.0000 - val_true_negatives_1: 1482.0000 - val_false_negatives_1: 103.0000 - val_false_positives_1: 3390.0000\n",
      "Epoch 7/10\n",
      "156/156 [==============================] - 355s 2s/step - loss: 1.2483 - auc_2: 0.6376 - auc_3: 0.1477 - recall_1: 0.7482 - precision_1: 0.0787 - precision_at_recall_1: 0.0926 - true_positives_1: 365.5669 - true_negatives_1: 3215.5860 - false_negatives_1: 132.1338 - false_positives_1: 4186.0510 - val_loss: 0.6843 - val_auc_2: 0.5227 - val_auc_3: 0.0679 - val_recall_1: 0.6799 - val_precision_1: 0.0648 - val_precision_at_recall_1: 0.0653 - val_true_positives_1: 223.0000 - val_true_negatives_1: 1654.0000 - val_false_negatives_1: 105.0000 - val_false_positives_1: 3218.0000\n",
      "Epoch 8/10\n",
      "156/156 [==============================] - 409s 3s/step - loss: 1.1404 - auc_2: 0.7326 - auc_3: 0.2931 - recall_1: 0.7649 - precision_1: 0.1004 - precision_at_recall_1: 0.1395 - true_positives_1: 386.8408 - true_negatives_1: 3971.6306 - false_negatives_1: 120.9299 - false_positives_1: 3419.9363 - val_loss: 0.7079 - val_auc_2: 0.5256 - val_auc_3: 0.0670 - val_recall_1: 0.6890 - val_precision_1: 0.0642 - val_precision_at_recall_1: 0.0692 - val_true_positives_1: 226.0000 - val_true_negatives_1: 1580.0000 - val_false_negatives_1: 102.0000 - val_false_positives_1: 3292.0000\n",
      "Epoch 9/10\n",
      "156/156 [==============================] - 408s 3s/step - loss: 0.9820 - auc_2: 0.8330 - auc_3: 0.4214 - recall_1: 0.8423 - precision_1: 0.1329 - precision_at_recall_1: 0.3267 - true_positives_1: 405.3376 - true_negatives_1: 4852.8089 - false_negatives_1: 88.1720 - false_positives_1: 2553.0191 - val_loss: 0.6853 - val_auc_2: 0.5148 - val_auc_3: 0.0661 - val_recall_1: 0.4482 - val_precision_1: 0.0664 - val_precision_at_recall_1: 0.0669 - val_true_positives_1: 147.0000 - val_true_negatives_1: 2806.0000 - val_false_negatives_1: 181.0000 - val_false_positives_1: 2066.0000\n",
      "Epoch 10/10\n",
      "156/156 [==============================] - 408s 3s/step - loss: 0.7493 - auc_2: 0.9047 - auc_3: 0.6231 - recall_1: 0.8640 - precision_1: 0.1867 - precision_at_recall_1: 0.7332 - true_positives_1: 426.8471 - true_negatives_1: 5631.9873 - false_negatives_1: 68.0446 - false_positives_1: 1772.4586 - val_loss: 0.5846 - val_auc_2: 0.5167 - val_auc_3: 0.0659 - val_recall_1: 0.2835 - val_precision_1: 0.0687 - val_precision_at_recall_1: 0.0663 - val_true_positives_1: 93.0000 - val_true_negatives_1: 3611.0000 - val_false_negatives_1: 235.0000 - val_false_positives_1: 1261.0000\n"
     ]
    },
    {
     "data": {
      "text/plain": [
       "<keras.callbacks.History at 0x7f88ec631d30>"
      ]
     },
     "execution_count": 103,
     "metadata": {},
     "output_type": "execute_result"
    }
   ],
   "source": [
    "NN_scratch2.fit(X_train, y_train_array, epochs=10, verbose=1, batch_size = 100, class_weight = class_weights, validation_data = (X_valid, y_valid_array), callbacks=[\n",
    "        keras.callbacks.EarlyStopping(patience=8, verbose=1, restore_best_weights=True)])"
   ]
  },
  {
   "cell_type": "code",
   "execution_count": 129,
   "metadata": {},
   "outputs": [
    {
     "name": "stdout",
     "output_type": "stream",
     "text": [
      "163/163 [==============================] - 33s 190ms/step - loss: 0.5796 - auc_2: 0.5329 - auc_3: 0.0680 - recall_1: 0.3110 - precision_1: 0.0745 - precision_at_recall_1: 0.0698 - true_positives_1: 102.0000 - true_negatives_1: 3604.0000 - false_negatives_1: 226.0000 - false_positives_1: 1268.0000\n",
      "[0.5795618891716003, 0.5329424142837524, 0.06797857582569122, 0.3109756112098694, 0.07445255666971207, 0.06982343643903732, 102.0, 3604.0, 226.0, 1268.0]\n"
     ]
    }
   ],
   "source": [
    "results = NN_scratch2.evaluate(X_test, y_test)\n",
    "print(results)"
   ]
  },
  {
   "cell_type": "code",
   "execution_count": 104,
   "metadata": {},
   "outputs": [
    {
     "data": {
      "text/plain": [
       "0.936923076923077"
      ]
     },
     "execution_count": 104,
     "metadata": {},
     "output_type": "execute_result"
    }
   ],
   "source": [
    "accuracy_score(y_test, np.argmax(NN_scratch2.predict(X_test), axis = -1))"
   ]
  },
  {
   "cell_type": "code",
   "execution_count": 105,
   "metadata": {},
   "outputs": [
    {
     "data": {
      "text/plain": [
       "0.0"
      ]
     },
     "execution_count": 105,
     "metadata": {},
     "output_type": "execute_result"
    }
   ],
   "source": [
    "recall_score(y_test, np.argmax(NN_scratch2.predict(X_test), axis = -1))"
   ]
  },
  {
   "cell_type": "code",
   "execution_count": 106,
   "metadata": {},
   "outputs": [
    {
     "data": {
      "text/plain": [
       "0.5"
      ]
     },
     "execution_count": 106,
     "metadata": {},
     "output_type": "execute_result"
    }
   ],
   "source": [
    "roc_auc_score(y_test, np.argmax(NN_scratch2.predict(X_test), axis = -1))"
   ]
  },
  {
   "cell_type": "markdown",
   "metadata": {},
   "source": [
    "Change relu activation to leaky relu"
   ]
  },
  {
   "cell_type": "code",
   "execution_count": 107,
   "metadata": {},
   "outputs": [],
   "source": [
    "NN_scratch3 = Sequential(\n",
    "                        [InputLayer(input_shape=X_train.shape[1:]),\n",
    "                         Conv2D(filters=32, kernel_size=3, activation=LeakyReLU(alpha = 0.20), padding='same'),\n",
    "                         MaxPooling2D(),\n",
    "                         Conv2D(filters=64, kernel_size=3, activation=LeakyReLU(alpha = 0.20), padding='same'),\n",
    "                         MaxPooling2D(),\n",
    "                         Flatten(),\n",
    "                         Dense(32, activation =  LeakyReLU(alpha=0.20)),\n",
    "                         Dropout(0.20),\n",
    "                         Dense(1, activation='sigmoid')]\n",
    "                       )\n",
    "\n",
    "NN_scratch3.compile(\n",
    "    loss='binary_crossentropy',\n",
    "    optimizer='adam',\n",
    "    metrics=metrics_,\n",
    ")"
   ]
  },
  {
   "cell_type": "code",
   "execution_count": 108,
   "metadata": {},
   "outputs": [
    {
     "name": "stdout",
     "output_type": "stream",
     "text": [
      "Epoch 1/10\n",
      "156/156 [==============================] - 466s 3s/step - loss: 4.0610 - auc_2: 0.5148 - auc_3: 0.0694 - recall_1: 0.4179 - precision_1: 0.0672 - precision_at_recall_1: 0.0681 - true_positives_1: 358.8726 - true_negatives_1: 7219.0000 - false_negatives_1: 474.8726 - false_positives_1: 5046.5924 - val_loss: 0.9006 - val_auc_2: 0.5285 - val_auc_3: 0.0678 - val_recall_1: 1.0000 - val_precision_1: 0.0632 - val_precision_at_recall_1: 0.0710 - val_true_positives_1: 328.0000 - val_true_negatives_1: 11.0000 - val_false_negatives_1: 0.0000e+00 - val_false_positives_1: 4861.0000\n",
      "Epoch 2/10\n",
      "156/156 [==============================] - 458s 3s/step - loss: 1.2678 - auc_2: 0.6332 - auc_3: 0.1282 - recall_1: 0.6453 - precision_1: 0.0897 - precision_at_recall_1: 0.1049 - true_positives_1: 305.2866 - true_negatives_1: 4312.3503 - false_negatives_1: 192.6561 - false_positives_1: 3089.0446 - val_loss: 0.7623 - val_auc_2: 0.5018 - val_auc_3: 0.0633 - val_recall_1: 0.7530 - val_precision_1: 0.0653 - val_precision_at_recall_1: 0.0662 - val_true_positives_1: 247.0000 - val_true_negatives_1: 1338.0000 - val_false_negatives_1: 81.0000 - val_false_positives_1: 3534.0000\n",
      "Epoch 3/10\n",
      "156/156 [==============================] - 468s 3s/step - loss: 1.1019 - auc_2: 0.7615 - auc_3: 0.2639 - recall_1: 0.6961 - precision_1: 0.1330 - precision_at_recall_1: 0.2034 - true_positives_1: 350.0828 - true_negatives_1: 5112.2420 - false_negatives_1: 154.5478 - false_positives_1: 2282.4650 - val_loss: 0.6423 - val_auc_2: 0.5182 - val_auc_3: 0.0675 - val_recall_1: 0.4268 - val_precision_1: 0.0695 - val_precision_at_recall_1: 0.0661 - val_true_positives_1: 140.0000 - val_true_negatives_1: 2999.0000 - val_false_negatives_1: 188.0000 - val_false_positives_1: 1873.0000\n",
      "Epoch 4/10\n",
      "156/156 [==============================] - 453s 3s/step - loss: 0.8155 - auc_2: 0.8758 - auc_3: 0.4630 - recall_1: 0.7665 - precision_1: 0.1929 - precision_at_recall_1: 0.3992 - true_positives_1: 380.1401 - true_negatives_1: 5764.4968 - false_negatives_1: 119.6815 - false_positives_1: 1635.0191 - val_loss: 0.5573 - val_auc_2: 0.5130 - val_auc_3: 0.0643 - val_recall_1: 0.1921 - val_precision_1: 0.0583 - val_precision_at_recall_1: 0.0690 - val_true_positives_1: 63.0000 - val_true_negatives_1: 3855.0000 - val_false_negatives_1: 265.0000 - val_false_positives_1: 1017.0000\n",
      "Epoch 5/10\n",
      "156/156 [==============================] - 457s 3s/step - loss: 0.5886 - auc_2: 0.9389 - auc_3: 0.7024 - recall_1: 0.8610 - precision_1: 0.2737 - precision_at_recall_1: 0.8203 - true_positives_1: 429.5541 - true_negatives_1: 6267.3376 - false_negatives_1: 67.4204 - false_positives_1: 1135.0255 - val_loss: 0.5010 - val_auc_2: 0.5142 - val_auc_3: 0.0683 - val_recall_1: 0.1128 - val_precision_1: 0.0643 - val_precision_at_recall_1: 0.0674 - val_true_positives_1: 37.0000 - val_true_negatives_1: 4334.0000 - val_false_negatives_1: 291.0000 - val_false_positives_1: 538.0000\n",
      "Epoch 6/10\n",
      "156/156 [==============================] - 457s 3s/step - loss: 0.4729 - auc_2: 0.9618 - auc_3: 0.8047 - recall_1: 0.8719 - precision_1: 0.3677 - precision_at_recall_1: 0.9388 - true_positives_1: 445.9682 - true_negatives_1: 6526.9936 - false_negatives_1: 63.7898 - false_positives_1: 862.5860 - val_loss: 0.4656 - val_auc_2: 0.5143 - val_auc_3: 0.0689 - val_recall_1: 0.0732 - val_precision_1: 0.0571 - val_precision_at_recall_1: 0.0657 - val_true_positives_1: 24.0000 - val_true_negatives_1: 4476.0000 - val_false_negatives_1: 304.0000 - val_false_positives_1: 396.0000\n",
      "Epoch 7/10\n",
      "156/156 [==============================] - 449s 3s/step - loss: 0.3337 - auc_2: 0.9798 - auc_3: 0.8770 - recall_1: 0.8899 - precision_1: 0.4279 - precision_at_recall_1: 0.9834 - true_positives_1: 431.0573 - true_negatives_1: 6788.0701 - false_negatives_1: 56.3185 - false_positives_1: 623.8917 - val_loss: 0.4715 - val_auc_2: 0.5286 - val_auc_3: 0.0701 - val_recall_1: 0.0793 - val_precision_1: 0.0788 - val_precision_at_recall_1: 0.0680 - val_true_positives_1: 26.0000 - val_true_negatives_1: 4568.0000 - val_false_negatives_1: 302.0000 - val_false_positives_1: 304.0000\n",
      "Epoch 8/10\n",
      "156/156 [==============================] - 449s 3s/step - loss: 0.4004 - auc_2: 0.9726 - auc_3: 0.8570 - recall_1: 0.9151 - precision_1: 0.3774 - precision_at_recall_1: 0.9771 - true_positives_1: 463.0446 - true_negatives_1: 6615.6115 - false_negatives_1: 45.2611 - false_positives_1: 775.4204 - val_loss: 0.6001 - val_auc_2: 0.5110 - val_auc_3: 0.0676 - val_recall_1: 0.0762 - val_precision_1: 0.0607 - val_precision_at_recall_1: 0.0634 - val_true_positives_1: 25.0000 - val_true_negatives_1: 4485.0000 - val_false_negatives_1: 303.0000 - val_false_positives_1: 387.0000\n",
      "Epoch 9/10\n",
      "156/156 [==============================] - 377s 2s/step - loss: 0.2627 - auc_2: 0.9854 - auc_3: 0.9073 - recall_1: 0.8910 - precision_1: 0.4831 - precision_at_recall_1: 1.0000 - true_positives_1: 440.9682 - true_negatives_1: 6885.0828 - false_negatives_1: 51.2548 - false_positives_1: 522.0318 - val_loss: 0.6288 - val_auc_2: 0.5225 - val_auc_3: 0.0686 - val_recall_1: 0.2439 - val_precision_1: 0.0735 - val_precision_at_recall_1: 0.0691 - val_true_positives_1: 80.0000 - val_true_negatives_1: 3863.0000 - val_false_negatives_1: 248.0000 - val_false_positives_1: 1009.0000\n",
      "Epoch 10/10\n",
      "156/156 [==============================] - 393s 3s/step - loss: 0.2379 - auc_2: 0.9879 - auc_3: 0.9237 - recall_1: 0.9193 - precision_1: 0.4734 - precision_at_recall_1: 0.9984 - true_positives_1: 464.1720 - true_negatives_1: 6888.1274 - false_negatives_1: 41.9108 - false_positives_1: 505.1274 - val_loss: 0.6702 - val_auc_2: 0.5214 - val_auc_3: 0.0703 - val_recall_1: 0.1951 - val_precision_1: 0.0796 - val_precision_at_recall_1: 0.0631 - val_true_positives_1: 64.0000 - val_true_negatives_1: 4132.0000 - val_false_negatives_1: 264.0000 - val_false_positives_1: 740.0000\n"
     ]
    },
    {
     "data": {
      "text/plain": [
       "<keras.callbacks.History at 0x7f883292fb50>"
      ]
     },
     "execution_count": 108,
     "metadata": {},
     "output_type": "execute_result"
    }
   ],
   "source": [
    "NN_scratch3.fit(X_train, y_train_array, epochs=10, verbose=1, batch_size = 100, class_weight = class_weights, validation_data = (X_valid, y_valid_array))"
   ]
  },
  {
   "cell_type": "code",
   "execution_count": 130,
   "metadata": {},
   "outputs": [
    {
     "name": "stdout",
     "output_type": "stream",
     "text": [
      "163/163 [==============================] - 34s 196ms/step - loss: 0.6801 - auc_2: 0.5086 - auc_3: 0.0666 - recall_1: 0.2012 - precision_1: 0.0819 - precision_at_recall_1: 0.0631 - true_positives_1: 66.0000 - true_negatives_1: 4132.0000 - false_negatives_1: 262.0000 - false_positives_1: 740.0000\n",
      "[0.6801285743713379, 0.5085578560829163, 0.06662418693304062, 0.20121951401233673, 0.08188585937023163, 0.0630769208073616, 66.0, 4132.0, 262.0, 740.0]\n"
     ]
    }
   ],
   "source": [
    "results = NN_scratch3.evaluate(X_test, y_test)\n",
    "print(results)"
   ]
  },
  {
   "cell_type": "code",
   "execution_count": 109,
   "metadata": {},
   "outputs": [
    {
     "data": {
      "text/plain": [
       "0.936923076923077"
      ]
     },
     "execution_count": 109,
     "metadata": {},
     "output_type": "execute_result"
    }
   ],
   "source": [
    "accuracy_score(y_test, np.argmax(NN_scratch3.predict(X_test), axis = -1))"
   ]
  },
  {
   "cell_type": "code",
   "execution_count": 110,
   "metadata": {},
   "outputs": [
    {
     "data": {
      "text/plain": [
       "0.0"
      ]
     },
     "execution_count": 110,
     "metadata": {},
     "output_type": "execute_result"
    }
   ],
   "source": [
    "recall_score(y_test, np.argmax(NN_scratch3.predict(X_test), axis = -1))"
   ]
  },
  {
   "cell_type": "code",
   "execution_count": 111,
   "metadata": {},
   "outputs": [
    {
     "data": {
      "text/plain": [
       "0.5"
      ]
     },
     "execution_count": 111,
     "metadata": {},
     "output_type": "execute_result"
    }
   ],
   "source": [
    "roc_auc_score(y_test, np.argmax(NN_scratch3.predict(X_test), axis = -1))"
   ]
  },
  {
   "cell_type": "markdown",
   "metadata": {},
   "source": [
    "Set class weights to be balanced"
   ]
  },
  {
   "cell_type": "code",
   "execution_count": 112,
   "metadata": {},
   "outputs": [],
   "source": [
    "NN_scratch4 = Sequential(\n",
    "                        [InputLayer(input_shape=X_train.shape[1:]),\n",
    "                         Conv2D(filters=32, kernel_size=3, activation=LeakyReLU(alpha = 0.20), padding='same'),\n",
    "                         MaxPooling2D(),\n",
    "                         Conv2D(filters=64, kernel_size=3, activation=LeakyReLU(alpha = 0.20), padding='same'),\n",
    "                         MaxPooling2D(),\n",
    "                         Flatten(),\n",
    "                         Dense(32, activation =  LeakyReLU(alpha=0.20)),            \n",
    "                         Dense(1, activation='sigmoid')]\n",
    "                       )\n",
    "\n",
    "NN_scratch4.compile(\n",
    "    loss='binary_crossentropy',\n",
    "    optimizer='adam',\n",
    "    metrics=metrics_,\n",
    ")"
   ]
  },
  {
   "cell_type": "code",
   "execution_count": 131,
   "metadata": {},
   "outputs": [
    {
     "name": "stdout",
     "output_type": "stream",
     "text": [
      "163/163 [==============================] - 33s 190ms/step - loss: 0.6508 - auc_2: 0.5154 - auc_3: 0.0679 - recall_1: 0.1568 - precision_1: 0.0741 - precision_at_recall_1: 0.0666 - true_positives_1: 76.2561 - true_negatives_1: 6381.0061 - false_negatives_1: 421.4878 - false_positives_1: 960.8598\n",
      "[0.6504296064376831, 0.5131266713142395, 0.06671348214149475, 0.1356707364320755, 0.07074721902608871, 0.06835898756980896, 89.0, 8575.0, 567.0, 1169.0]\n"
     ]
    }
   ],
   "source": [
    "results = NN_scratch4.evaluate(X_test, y_test)\n",
    "print(results)"
   ]
  },
  {
   "cell_type": "code",
   "execution_count": null,
   "metadata": {},
   "outputs": [],
   "source": [
    "accuracy_score(y_test, np.argmax(NN_scratch4.predict(X_test), axis = 1))"
   ]
  },
  {
   "cell_type": "code",
   "execution_count": null,
   "metadata": {},
   "outputs": [],
   "source": [
    "recall_score(y_test, np.argmax(NN_scratch4.predict(X_test), axis = 1))"
   ]
  },
  {
   "cell_type": "code",
   "execution_count": null,
   "metadata": {},
   "outputs": [],
   "source": [
    "roc_auc_score(y_test, np.argmax(NN_scratch4.predict(X_test), axis = 1))"
   ]
  },
  {
   "cell_type": "markdown",
   "metadata": {},
   "source": [
    "NN_transfer - try out pre-trained models. First try MobilNetV2. Interestingly, MobileNet believes that fluorscent cell images are mostly objects found in the ocean. "
   ]
  },
  {
   "cell_type": "code",
   "execution_count": 66,
   "metadata": {
    "collapsed": true,
    "jupyter": {
     "outputs_hidden": true
    },
    "tags": []
   },
   "outputs": [
    {
     "ename": "ValueError",
     "evalue": "in user code:\n\n    /Applications/anaconda3/lib/python3.8/site-packages/keras/engine/training.py:1544 predict_function  *\n        return step_function(self, iterator)\n    /Applications/anaconda3/lib/python3.8/site-packages/keras/engine/training.py:1527 run_step  *\n        outputs = model.predict_step(data)\n    /Applications/anaconda3/lib/python3.8/site-packages/keras/engine/training.py:1500 predict_step  *\n        return self(x, training=False)\n    /Applications/anaconda3/lib/python3.8/site-packages/keras/engine/base_layer.py:989 __call__  *\n        input_spec.assert_input_compatibility(self.input_spec, inputs, self.name)\n    /Applications/anaconda3/lib/python3.8/site-packages/keras/engine/input_spec.py:264 assert_input_compatibility  *\n        raise ValueError('Input ' + str(input_index) +\n\n    ValueError: Input 0 is incompatible with layer mobilenetv2_1.00_224: expected shape=(None, 224, 224, 3), found shape=(32, 224, 3)\n",
     "output_type": "error",
     "traceback": [
      "\u001b[0;31m---------------------------------------------------------------------------\u001b[0m",
      "\u001b[0;31mValueError\u001b[0m                                Traceback (most recent call last)",
      "\u001b[0;32m<ipython-input-66-f5ac5668cf25>\u001b[0m in \u001b[0;36m<module>\u001b[0;34m\u001b[0m\n\u001b[1;32m      2\u001b[0m \u001b[0;34m\u001b[0m\u001b[0m\n\u001b[1;32m      3\u001b[0m \u001b[0;32mfor\u001b[0m \u001b[0mimg_\u001b[0m \u001b[0;32min\u001b[0m \u001b[0mimage_array\u001b[0m\u001b[0;34m[\u001b[0m\u001b[0;36m10\u001b[0m\u001b[0;34m:\u001b[0m\u001b[0;36m15\u001b[0m\u001b[0;34m]\u001b[0m\u001b[0;34m:\u001b[0m\u001b[0;34m\u001b[0m\u001b[0;34m\u001b[0m\u001b[0m\n\u001b[0;32m----> 4\u001b[0;31m     \u001b[0mout\u001b[0m \u001b[0;34m=\u001b[0m \u001b[0mmodel\u001b[0m\u001b[0;34m.\u001b[0m\u001b[0mpredict\u001b[0m\u001b[0;34m(\u001b[0m\u001b[0mimg_\u001b[0m\u001b[0;34m)\u001b[0m\u001b[0;34m\u001b[0m\u001b[0;34m\u001b[0m\u001b[0m\n\u001b[0m\u001b[1;32m      5\u001b[0m     \u001b[0mprint\u001b[0m\u001b[0;34m(\u001b[0m\u001b[0;34m'Predicted:'\u001b[0m\u001b[0;34m,\u001b[0m \u001b[0mmobilenet_v2\u001b[0m\u001b[0;34m.\u001b[0m\u001b[0mdecode_predictions\u001b[0m\u001b[0;34m(\u001b[0m\u001b[0mout\u001b[0m\u001b[0;34m)\u001b[0m\u001b[0;34m)\u001b[0m\u001b[0;34m\u001b[0m\u001b[0;34m\u001b[0m\u001b[0m\n",
      "\u001b[0;32m/Applications/anaconda3/lib/python3.8/site-packages/keras/engine/training.py\u001b[0m in \u001b[0;36mpredict\u001b[0;34m(self, x, batch_size, verbose, steps, callbacks, max_queue_size, workers, use_multiprocessing)\u001b[0m\n\u001b[1;32m   1700\u001b[0m           \u001b[0;32mfor\u001b[0m \u001b[0mstep\u001b[0m \u001b[0;32min\u001b[0m \u001b[0mdata_handler\u001b[0m\u001b[0;34m.\u001b[0m\u001b[0msteps\u001b[0m\u001b[0;34m(\u001b[0m\u001b[0;34m)\u001b[0m\u001b[0;34m:\u001b[0m\u001b[0;34m\u001b[0m\u001b[0;34m\u001b[0m\u001b[0m\n\u001b[1;32m   1701\u001b[0m             \u001b[0mcallbacks\u001b[0m\u001b[0;34m.\u001b[0m\u001b[0mon_predict_batch_begin\u001b[0m\u001b[0;34m(\u001b[0m\u001b[0mstep\u001b[0m\u001b[0;34m)\u001b[0m\u001b[0;34m\u001b[0m\u001b[0;34m\u001b[0m\u001b[0m\n\u001b[0;32m-> 1702\u001b[0;31m             \u001b[0mtmp_batch_outputs\u001b[0m \u001b[0;34m=\u001b[0m \u001b[0mself\u001b[0m\u001b[0;34m.\u001b[0m\u001b[0mpredict_function\u001b[0m\u001b[0;34m(\u001b[0m\u001b[0miterator\u001b[0m\u001b[0;34m)\u001b[0m\u001b[0;34m\u001b[0m\u001b[0;34m\u001b[0m\u001b[0m\n\u001b[0m\u001b[1;32m   1703\u001b[0m             \u001b[0;32mif\u001b[0m \u001b[0mdata_handler\u001b[0m\u001b[0;34m.\u001b[0m\u001b[0mshould_sync\u001b[0m\u001b[0;34m:\u001b[0m\u001b[0;34m\u001b[0m\u001b[0;34m\u001b[0m\u001b[0m\n\u001b[1;32m   1704\u001b[0m               \u001b[0mcontext\u001b[0m\u001b[0;34m.\u001b[0m\u001b[0masync_wait\u001b[0m\u001b[0;34m(\u001b[0m\u001b[0;34m)\u001b[0m\u001b[0;34m\u001b[0m\u001b[0;34m\u001b[0m\u001b[0m\n",
      "\u001b[0;32m/Applications/anaconda3/lib/python3.8/site-packages/tensorflow/python/eager/def_function.py\u001b[0m in \u001b[0;36m__call__\u001b[0;34m(self, *args, **kwds)\u001b[0m\n\u001b[1;32m    887\u001b[0m \u001b[0;34m\u001b[0m\u001b[0m\n\u001b[1;32m    888\u001b[0m       \u001b[0;32mwith\u001b[0m \u001b[0mOptionalXlaContext\u001b[0m\u001b[0;34m(\u001b[0m\u001b[0mself\u001b[0m\u001b[0;34m.\u001b[0m\u001b[0m_jit_compile\u001b[0m\u001b[0;34m)\u001b[0m\u001b[0;34m:\u001b[0m\u001b[0;34m\u001b[0m\u001b[0;34m\u001b[0m\u001b[0m\n\u001b[0;32m--> 889\u001b[0;31m         \u001b[0mresult\u001b[0m \u001b[0;34m=\u001b[0m \u001b[0mself\u001b[0m\u001b[0;34m.\u001b[0m\u001b[0m_call\u001b[0m\u001b[0;34m(\u001b[0m\u001b[0;34m*\u001b[0m\u001b[0margs\u001b[0m\u001b[0;34m,\u001b[0m \u001b[0;34m**\u001b[0m\u001b[0mkwds\u001b[0m\u001b[0;34m)\u001b[0m\u001b[0;34m\u001b[0m\u001b[0;34m\u001b[0m\u001b[0m\n\u001b[0m\u001b[1;32m    890\u001b[0m \u001b[0;34m\u001b[0m\u001b[0m\n\u001b[1;32m    891\u001b[0m       \u001b[0mnew_tracing_count\u001b[0m \u001b[0;34m=\u001b[0m \u001b[0mself\u001b[0m\u001b[0;34m.\u001b[0m\u001b[0mexperimental_get_tracing_count\u001b[0m\u001b[0;34m(\u001b[0m\u001b[0;34m)\u001b[0m\u001b[0;34m\u001b[0m\u001b[0;34m\u001b[0m\u001b[0m\n",
      "\u001b[0;32m/Applications/anaconda3/lib/python3.8/site-packages/tensorflow/python/eager/def_function.py\u001b[0m in \u001b[0;36m_call\u001b[0;34m(self, *args, **kwds)\u001b[0m\n\u001b[1;32m    931\u001b[0m       \u001b[0;31m# This is the first call of __call__, so we have to initialize.\u001b[0m\u001b[0;34m\u001b[0m\u001b[0;34m\u001b[0m\u001b[0;34m\u001b[0m\u001b[0m\n\u001b[1;32m    932\u001b[0m       \u001b[0minitializers\u001b[0m \u001b[0;34m=\u001b[0m \u001b[0;34m[\u001b[0m\u001b[0;34m]\u001b[0m\u001b[0;34m\u001b[0m\u001b[0;34m\u001b[0m\u001b[0m\n\u001b[0;32m--> 933\u001b[0;31m       \u001b[0mself\u001b[0m\u001b[0;34m.\u001b[0m\u001b[0m_initialize\u001b[0m\u001b[0;34m(\u001b[0m\u001b[0margs\u001b[0m\u001b[0;34m,\u001b[0m \u001b[0mkwds\u001b[0m\u001b[0;34m,\u001b[0m \u001b[0madd_initializers_to\u001b[0m\u001b[0;34m=\u001b[0m\u001b[0minitializers\u001b[0m\u001b[0;34m)\u001b[0m\u001b[0;34m\u001b[0m\u001b[0;34m\u001b[0m\u001b[0m\n\u001b[0m\u001b[1;32m    934\u001b[0m     \u001b[0;32mfinally\u001b[0m\u001b[0;34m:\u001b[0m\u001b[0;34m\u001b[0m\u001b[0;34m\u001b[0m\u001b[0m\n\u001b[1;32m    935\u001b[0m       \u001b[0;31m# At this point we know that the initialization is complete (or less\u001b[0m\u001b[0;34m\u001b[0m\u001b[0;34m\u001b[0m\u001b[0;34m\u001b[0m\u001b[0m\n",
      "\u001b[0;32m/Applications/anaconda3/lib/python3.8/site-packages/tensorflow/python/eager/def_function.py\u001b[0m in \u001b[0;36m_initialize\u001b[0;34m(self, args, kwds, add_initializers_to)\u001b[0m\n\u001b[1;32m    761\u001b[0m     \u001b[0mself\u001b[0m\u001b[0;34m.\u001b[0m\u001b[0m_graph_deleter\u001b[0m \u001b[0;34m=\u001b[0m \u001b[0mFunctionDeleter\u001b[0m\u001b[0;34m(\u001b[0m\u001b[0mself\u001b[0m\u001b[0;34m.\u001b[0m\u001b[0m_lifted_initializer_graph\u001b[0m\u001b[0;34m)\u001b[0m\u001b[0;34m\u001b[0m\u001b[0;34m\u001b[0m\u001b[0m\n\u001b[1;32m    762\u001b[0m     self._concrete_stateful_fn = (\n\u001b[0;32m--> 763\u001b[0;31m         self._stateful_fn._get_concrete_function_internal_garbage_collected(  # pylint: disable=protected-access\n\u001b[0m\u001b[1;32m    764\u001b[0m             *args, **kwds))\n\u001b[1;32m    765\u001b[0m \u001b[0;34m\u001b[0m\u001b[0m\n",
      "\u001b[0;32m/Applications/anaconda3/lib/python3.8/site-packages/tensorflow/python/eager/function.py\u001b[0m in \u001b[0;36m_get_concrete_function_internal_garbage_collected\u001b[0;34m(self, *args, **kwargs)\u001b[0m\n\u001b[1;32m   3048\u001b[0m       \u001b[0margs\u001b[0m\u001b[0;34m,\u001b[0m \u001b[0mkwargs\u001b[0m \u001b[0;34m=\u001b[0m \u001b[0;32mNone\u001b[0m\u001b[0;34m,\u001b[0m \u001b[0;32mNone\u001b[0m\u001b[0;34m\u001b[0m\u001b[0;34m\u001b[0m\u001b[0m\n\u001b[1;32m   3049\u001b[0m     \u001b[0;32mwith\u001b[0m \u001b[0mself\u001b[0m\u001b[0;34m.\u001b[0m\u001b[0m_lock\u001b[0m\u001b[0;34m:\u001b[0m\u001b[0;34m\u001b[0m\u001b[0;34m\u001b[0m\u001b[0m\n\u001b[0;32m-> 3050\u001b[0;31m       \u001b[0mgraph_function\u001b[0m\u001b[0;34m,\u001b[0m \u001b[0m_\u001b[0m \u001b[0;34m=\u001b[0m \u001b[0mself\u001b[0m\u001b[0;34m.\u001b[0m\u001b[0m_maybe_define_function\u001b[0m\u001b[0;34m(\u001b[0m\u001b[0margs\u001b[0m\u001b[0;34m,\u001b[0m \u001b[0mkwargs\u001b[0m\u001b[0;34m)\u001b[0m\u001b[0;34m\u001b[0m\u001b[0;34m\u001b[0m\u001b[0m\n\u001b[0m\u001b[1;32m   3051\u001b[0m     \u001b[0;32mreturn\u001b[0m \u001b[0mgraph_function\u001b[0m\u001b[0;34m\u001b[0m\u001b[0;34m\u001b[0m\u001b[0m\n\u001b[1;32m   3052\u001b[0m \u001b[0;34m\u001b[0m\u001b[0m\n",
      "\u001b[0;32m/Applications/anaconda3/lib/python3.8/site-packages/tensorflow/python/eager/function.py\u001b[0m in \u001b[0;36m_maybe_define_function\u001b[0;34m(self, args, kwargs)\u001b[0m\n\u001b[1;32m   3442\u001b[0m \u001b[0;34m\u001b[0m\u001b[0m\n\u001b[1;32m   3443\u001b[0m           \u001b[0mself\u001b[0m\u001b[0;34m.\u001b[0m\u001b[0m_function_cache\u001b[0m\u001b[0;34m.\u001b[0m\u001b[0mmissed\u001b[0m\u001b[0;34m.\u001b[0m\u001b[0madd\u001b[0m\u001b[0;34m(\u001b[0m\u001b[0mcall_context_key\u001b[0m\u001b[0;34m)\u001b[0m\u001b[0;34m\u001b[0m\u001b[0;34m\u001b[0m\u001b[0m\n\u001b[0;32m-> 3444\u001b[0;31m           \u001b[0mgraph_function\u001b[0m \u001b[0;34m=\u001b[0m \u001b[0mself\u001b[0m\u001b[0;34m.\u001b[0m\u001b[0m_create_graph_function\u001b[0m\u001b[0;34m(\u001b[0m\u001b[0margs\u001b[0m\u001b[0;34m,\u001b[0m \u001b[0mkwargs\u001b[0m\u001b[0;34m)\u001b[0m\u001b[0;34m\u001b[0m\u001b[0;34m\u001b[0m\u001b[0m\n\u001b[0m\u001b[1;32m   3445\u001b[0m           \u001b[0mself\u001b[0m\u001b[0;34m.\u001b[0m\u001b[0m_function_cache\u001b[0m\u001b[0;34m.\u001b[0m\u001b[0mprimary\u001b[0m\u001b[0;34m[\u001b[0m\u001b[0mcache_key\u001b[0m\u001b[0;34m]\u001b[0m \u001b[0;34m=\u001b[0m \u001b[0mgraph_function\u001b[0m\u001b[0;34m\u001b[0m\u001b[0;34m\u001b[0m\u001b[0m\n\u001b[1;32m   3446\u001b[0m \u001b[0;34m\u001b[0m\u001b[0m\n",
      "\u001b[0;32m/Applications/anaconda3/lib/python3.8/site-packages/tensorflow/python/eager/function.py\u001b[0m in \u001b[0;36m_create_graph_function\u001b[0;34m(self, args, kwargs, override_flat_arg_shapes)\u001b[0m\n\u001b[1;32m   3277\u001b[0m     \u001b[0marg_names\u001b[0m \u001b[0;34m=\u001b[0m \u001b[0mbase_arg_names\u001b[0m \u001b[0;34m+\u001b[0m \u001b[0mmissing_arg_names\u001b[0m\u001b[0;34m\u001b[0m\u001b[0;34m\u001b[0m\u001b[0m\n\u001b[1;32m   3278\u001b[0m     graph_function = ConcreteFunction(\n\u001b[0;32m-> 3279\u001b[0;31m         func_graph_module.func_graph_from_py_func(\n\u001b[0m\u001b[1;32m   3280\u001b[0m             \u001b[0mself\u001b[0m\u001b[0;34m.\u001b[0m\u001b[0m_name\u001b[0m\u001b[0;34m,\u001b[0m\u001b[0;34m\u001b[0m\u001b[0;34m\u001b[0m\u001b[0m\n\u001b[1;32m   3281\u001b[0m             \u001b[0mself\u001b[0m\u001b[0;34m.\u001b[0m\u001b[0m_python_function\u001b[0m\u001b[0;34m,\u001b[0m\u001b[0;34m\u001b[0m\u001b[0;34m\u001b[0m\u001b[0m\n",
      "\u001b[0;32m/Applications/anaconda3/lib/python3.8/site-packages/tensorflow/python/framework/func_graph.py\u001b[0m in \u001b[0;36mfunc_graph_from_py_func\u001b[0;34m(name, python_func, args, kwargs, signature, func_graph, autograph, autograph_options, add_control_dependencies, arg_names, op_return_value, collections, capture_by_value, override_flat_arg_shapes)\u001b[0m\n\u001b[1;32m    997\u001b[0m         \u001b[0m_\u001b[0m\u001b[0;34m,\u001b[0m \u001b[0moriginal_func\u001b[0m \u001b[0;34m=\u001b[0m \u001b[0mtf_decorator\u001b[0m\u001b[0;34m.\u001b[0m\u001b[0munwrap\u001b[0m\u001b[0;34m(\u001b[0m\u001b[0mpython_func\u001b[0m\u001b[0;34m)\u001b[0m\u001b[0;34m\u001b[0m\u001b[0;34m\u001b[0m\u001b[0m\n\u001b[1;32m    998\u001b[0m \u001b[0;34m\u001b[0m\u001b[0m\n\u001b[0;32m--> 999\u001b[0;31m       \u001b[0mfunc_outputs\u001b[0m \u001b[0;34m=\u001b[0m \u001b[0mpython_func\u001b[0m\u001b[0;34m(\u001b[0m\u001b[0;34m*\u001b[0m\u001b[0mfunc_args\u001b[0m\u001b[0;34m,\u001b[0m \u001b[0;34m**\u001b[0m\u001b[0mfunc_kwargs\u001b[0m\u001b[0;34m)\u001b[0m\u001b[0;34m\u001b[0m\u001b[0;34m\u001b[0m\u001b[0m\n\u001b[0m\u001b[1;32m   1000\u001b[0m \u001b[0;34m\u001b[0m\u001b[0m\n\u001b[1;32m   1001\u001b[0m       \u001b[0;31m# invariant: `func_outputs` contains only Tensors, CompositeTensors,\u001b[0m\u001b[0;34m\u001b[0m\u001b[0;34m\u001b[0m\u001b[0;34m\u001b[0m\u001b[0m\n",
      "\u001b[0;32m/Applications/anaconda3/lib/python3.8/site-packages/tensorflow/python/eager/def_function.py\u001b[0m in \u001b[0;36mwrapped_fn\u001b[0;34m(*args, **kwds)\u001b[0m\n\u001b[1;32m    670\u001b[0m         \u001b[0;31m# the function a weak reference to itself to avoid a reference cycle.\u001b[0m\u001b[0;34m\u001b[0m\u001b[0;34m\u001b[0m\u001b[0;34m\u001b[0m\u001b[0m\n\u001b[1;32m    671\u001b[0m         \u001b[0;32mwith\u001b[0m \u001b[0mOptionalXlaContext\u001b[0m\u001b[0;34m(\u001b[0m\u001b[0mcompile_with_xla\u001b[0m\u001b[0;34m)\u001b[0m\u001b[0;34m:\u001b[0m\u001b[0;34m\u001b[0m\u001b[0;34m\u001b[0m\u001b[0m\n\u001b[0;32m--> 672\u001b[0;31m           \u001b[0mout\u001b[0m \u001b[0;34m=\u001b[0m \u001b[0mweak_wrapped_fn\u001b[0m\u001b[0;34m(\u001b[0m\u001b[0;34m)\u001b[0m\u001b[0;34m.\u001b[0m\u001b[0m__wrapped__\u001b[0m\u001b[0;34m(\u001b[0m\u001b[0;34m*\u001b[0m\u001b[0margs\u001b[0m\u001b[0;34m,\u001b[0m \u001b[0;34m**\u001b[0m\u001b[0mkwds\u001b[0m\u001b[0;34m)\u001b[0m\u001b[0;34m\u001b[0m\u001b[0;34m\u001b[0m\u001b[0m\n\u001b[0m\u001b[1;32m    673\u001b[0m         \u001b[0;32mreturn\u001b[0m \u001b[0mout\u001b[0m\u001b[0;34m\u001b[0m\u001b[0;34m\u001b[0m\u001b[0m\n\u001b[1;32m    674\u001b[0m \u001b[0;34m\u001b[0m\u001b[0m\n",
      "\u001b[0;32m/Applications/anaconda3/lib/python3.8/site-packages/tensorflow/python/framework/func_graph.py\u001b[0m in \u001b[0;36mwrapper\u001b[0;34m(*args, **kwargs)\u001b[0m\n\u001b[1;32m    984\u001b[0m           \u001b[0;32mexcept\u001b[0m \u001b[0mException\u001b[0m \u001b[0;32mas\u001b[0m \u001b[0me\u001b[0m\u001b[0;34m:\u001b[0m  \u001b[0;31m# pylint:disable=broad-except\u001b[0m\u001b[0;34m\u001b[0m\u001b[0;34m\u001b[0m\u001b[0m\n\u001b[1;32m    985\u001b[0m             \u001b[0;32mif\u001b[0m \u001b[0mhasattr\u001b[0m\u001b[0;34m(\u001b[0m\u001b[0me\u001b[0m\u001b[0;34m,\u001b[0m \u001b[0;34m\"ag_error_metadata\"\u001b[0m\u001b[0;34m)\u001b[0m\u001b[0;34m:\u001b[0m\u001b[0;34m\u001b[0m\u001b[0;34m\u001b[0m\u001b[0m\n\u001b[0;32m--> 986\u001b[0;31m               \u001b[0;32mraise\u001b[0m \u001b[0me\u001b[0m\u001b[0;34m.\u001b[0m\u001b[0mag_error_metadata\u001b[0m\u001b[0;34m.\u001b[0m\u001b[0mto_exception\u001b[0m\u001b[0;34m(\u001b[0m\u001b[0me\u001b[0m\u001b[0;34m)\u001b[0m\u001b[0;34m\u001b[0m\u001b[0;34m\u001b[0m\u001b[0m\n\u001b[0m\u001b[1;32m    987\u001b[0m             \u001b[0;32melse\u001b[0m\u001b[0;34m:\u001b[0m\u001b[0;34m\u001b[0m\u001b[0;34m\u001b[0m\u001b[0m\n\u001b[1;32m    988\u001b[0m               \u001b[0;32mraise\u001b[0m\u001b[0;34m\u001b[0m\u001b[0;34m\u001b[0m\u001b[0m\n",
      "\u001b[0;31mValueError\u001b[0m: in user code:\n\n    /Applications/anaconda3/lib/python3.8/site-packages/keras/engine/training.py:1544 predict_function  *\n        return step_function(self, iterator)\n    /Applications/anaconda3/lib/python3.8/site-packages/keras/engine/training.py:1527 run_step  *\n        outputs = model.predict_step(data)\n    /Applications/anaconda3/lib/python3.8/site-packages/keras/engine/training.py:1500 predict_step  *\n        return self(x, training=False)\n    /Applications/anaconda3/lib/python3.8/site-packages/keras/engine/base_layer.py:989 __call__  *\n        input_spec.assert_input_compatibility(self.input_spec, inputs, self.name)\n    /Applications/anaconda3/lib/python3.8/site-packages/keras/engine/input_spec.py:264 assert_input_compatibility  *\n        raise ValueError('Input ' + str(input_index) +\n\n    ValueError: Input 0 is incompatible with layer mobilenetv2_1.00_224: expected shape=(None, 224, 224, 3), found shape=(32, 224, 3)\n"
     ]
    }
   ],
   "source": [
    "model = mobilenet_v2.MobileNetV2(weights='imagenet',)\n",
    "\n",
    "for img_ in image_array[10:15]:\n",
    "    out = model.predict(img_)\n",
    "    print('Predicted:', mobilenet_v2.decode_predictions(out))"
   ]
  },
  {
   "cell_type": "markdown",
   "metadata": {},
   "source": [
    "Transfer learning with mobilenetv2"
   ]
  },
  {
   "cell_type": "code",
   "execution_count": 20,
   "metadata": {},
   "outputs": [],
   "source": [
    "tensorboard = TensorBoard(log_dir = 'logs/NN_transfer')"
   ]
  },
  {
   "cell_type": "code",
   "execution_count": 21,
   "metadata": {},
   "outputs": [
    {
     "name": "stdout",
     "output_type": "stream",
     "text": [
      "WARNING:tensorflow:`input_shape` is undefined or non-square, or `rows` is not in [96, 128, 160, 192, 224]. Weights for input shape (224, 224) will be loaded as the default.\n"
     ]
    }
   ],
   "source": [
    "#exclude the final dense layers by setting include_top=False, and add new ones to train from scratch below\n",
    "base_model = mobilenet_v2.MobileNetV2(weights='imagenet', include_top=False, input_shape=(228,228,3)) \n",
    "\n",
    "# Freeze convolutional layers\n",
    "for layer in base_model.layers:\n",
    "    layer.trainable = False    \n",
    "    \n",
    "# Establish new fully connected block\n",
    "NN_transfer = Sequential(\n",
    "                        [InputLayer(input_shape=X_train.shape[1:]),\n",
    "                         ZeroPadding2D(padding=2),\n",
    "                         base_model,\n",
    "                         Flatten(),\n",
    "                         Dense(32, activation='relu'),\n",
    "                         Dropout(0.20),\n",
    "                         Dense(1, activation='sigmoid')]\n",
    "                       )\n",
    "\n",
    "NN_transfer.compile(\n",
    "    loss='binary_crossentropy',\n",
    "    optimizer='adam',\n",
    "    metrics=metrics_)"
   ]
  },
  {
   "cell_type": "code",
   "execution_count": 22,
   "metadata": {},
   "outputs": [
    {
     "name": "stdout",
     "output_type": "stream",
     "text": [
      "WARNING:tensorflow:From /Applications/anaconda3/lib/python3.8/site-packages/tensorflow/python/ops/array_ops.py:5043: calling gather (from tensorflow.python.ops.array_ops) with validate_indices is deprecated and will be removed in a future version.\n",
      "Instructions for updating:\n",
      "The `validate_indices` argument has no effect. Indices are always validated on CPU and never validated on GPU.\n",
      "Epoch 1/10\n"
     ]
    },
    {
     "name": "stderr",
     "output_type": "stream",
     "text": [
      "/Applications/anaconda3/lib/python3.8/site-packages/keras/utils/generic_utils.py:494: CustomMaskWarning: Custom mask layers require a config and must override get_config. When loading, the custom mask layer must be passed to the custom_objects argument.\n",
      "  warnings.warn('Custom mask layers require a config and must override '\n"
     ]
    },
    {
     "name": "stdout",
     "output_type": "stream",
     "text": [
      "156/156 [==============================] - 344s 2s/step - loss: 4.1802 - auc_2: 0.5155 - auc_3: 0.0651 - recall_1: 0.7800 - precision_1: 0.0645 - precision_at_recall_1: 0.0659 - true_positives_1: 422.0318 - true_negatives_1: 1174.2166 - false_negatives_1: 74.9363 - false_positives_1: 6228.1529 - val_loss: 0.6941 - val_auc_2: 0.4999 - val_auc_3: 0.0630 - val_recall_1: 1.0000 - val_precision_1: 0.0631 - val_precision_at_recall_1: 0.0631 - val_true_positives_1: 328.0000 - val_true_negatives_1: 0.0000e+00 - val_false_negatives_1: 0.0000e+00 - val_false_positives_1: 4872.0000\n",
      "Epoch 2/10\n",
      "156/156 [==============================] - 340s 2s/step - loss: 1.3309 - auc_2: 0.5053 - auc_3: 0.0805 - recall_1: 1.0000 - precision_1: 0.0665 - precision_at_recall_1: 0.0665 - true_positives_1: 506.6879 - true_negatives_1: 0.0000e+00 - false_negatives_1: 0.0000e+00 - false_positives_1: 7392.6497 - val_loss: 0.6947 - val_auc_2: 0.5000 - val_auc_3: 0.0631 - val_recall_1: 1.0000 - val_precision_1: 0.0631 - val_precision_at_recall_1: 0.0631 - val_true_positives_1: 328.0000 - val_true_negatives_1: 0.0000e+00 - val_false_negatives_1: 0.0000e+00 - val_false_positives_1: 4872.0000\n",
      "Epoch 3/10\n",
      "156/156 [==============================] - 347s 2s/step - loss: 1.3219 - auc_2: 0.5002 - auc_3: 0.0700 - recall_1: 1.0000 - precision_1: 0.0651 - precision_at_recall_1: 0.0651 - true_positives_1: 507.1210 - true_negatives_1: 0.2420 - false_negatives_1: 0.0000e+00 - false_positives_1: 7391.9745 - val_loss: 0.6966 - val_auc_2: 0.4996 - val_auc_3: 0.0626 - val_recall_1: 1.0000 - val_precision_1: 0.0631 - val_precision_at_recall_1: 0.0631 - val_true_positives_1: 328.0000 - val_true_negatives_1: 4.0000 - val_false_negatives_1: 0.0000e+00 - val_false_positives_1: 4868.0000\n",
      "Epoch 4/10\n",
      "156/156 [==============================] - 348s 2s/step - loss: 1.3160 - auc_2: 0.5036 - auc_3: 0.0733 - recall_1: 0.9980 - precision_1: 0.0642 - precision_at_recall_1: 0.0642 - true_positives_1: 501.0255 - true_negatives_1: 24.9108 - false_negatives_1: 1.2803 - false_positives_1: 7372.1210 - val_loss: 0.6954 - val_auc_2: 0.5000 - val_auc_3: 0.0631 - val_recall_1: 1.0000 - val_precision_1: 0.0631 - val_precision_at_recall_1: 0.0631 - val_true_positives_1: 328.0000 - val_true_negatives_1: 0.0000e+00 - val_false_negatives_1: 0.0000e+00 - val_false_positives_1: 4872.0000\n",
      "Epoch 5/10\n",
      "156/156 [==============================] - 331s 2s/step - loss: 1.3067 - auc_2: 0.5012 - auc_3: 0.0723 - recall_1: 1.0000 - precision_1: 0.0637 - precision_at_recall_1: 0.0637 - true_positives_1: 508.5987 - true_negatives_1: 0.0000e+00 - false_negatives_1: 0.0000e+00 - false_positives_1: 7390.7389 - val_loss: 0.6958 - val_auc_2: 0.5000 - val_auc_3: 0.0631 - val_recall_1: 1.0000 - val_precision_1: 0.0631 - val_precision_at_recall_1: 0.0631 - val_true_positives_1: 328.0000 - val_true_negatives_1: 0.0000e+00 - val_false_negatives_1: 0.0000e+00 - val_false_positives_1: 4872.0000\n",
      "Epoch 6/10\n",
      "156/156 [==============================] - 331s 2s/step - loss: 1.3108 - auc_2: 0.5011 - auc_3: 0.0667 - recall_1: 1.0000 - precision_1: 0.0638 - precision_at_recall_1: 0.0638 - true_positives_1: 500.5796 - true_negatives_1: 0.0000e+00 - false_negatives_1: 0.0000e+00 - false_positives_1: 7398.7580 - val_loss: 0.6948 - val_auc_2: 0.5000 - val_auc_3: 0.0631 - val_recall_1: 1.0000 - val_precision_1: 0.0631 - val_precision_at_recall_1: 0.0631 - val_true_positives_1: 328.0000 - val_true_negatives_1: 0.0000e+00 - val_false_negatives_1: 0.0000e+00 - val_false_positives_1: 4872.0000\n",
      "Epoch 7/10\n",
      "156/156 [==============================] - 332s 2s/step - loss: 1.3088 - auc_2: 0.5006 - auc_3: 0.0653 - recall_1: 1.0000 - precision_1: 0.0635 - precision_at_recall_1: 0.0635 - true_positives_1: 502.7962 - true_negatives_1: 0.0000e+00 - false_negatives_1: 0.0000e+00 - false_positives_1: 7396.5414 - val_loss: 0.6961 - val_auc_2: 0.5000 - val_auc_3: 0.0631 - val_recall_1: 1.0000 - val_precision_1: 0.0631 - val_precision_at_recall_1: 0.0631 - val_true_positives_1: 328.0000 - val_true_negatives_1: 0.0000e+00 - val_false_negatives_1: 0.0000e+00 - val_false_positives_1: 4872.0000\n",
      "Epoch 8/10\n",
      "156/156 [==============================] - 369s 2s/step - loss: 1.2943 - auc_2: 0.5028 - auc_3: 0.0699 - recall_1: 1.0000 - precision_1: 0.0623 - precision_at_recall_1: 0.0623 - true_positives_1: 497.9045 - true_negatives_1: 0.0000e+00 - false_negatives_1: 0.0000e+00 - false_positives_1: 7401.4331 - val_loss: 0.6952 - val_auc_2: 0.5000 - val_auc_3: 0.0631 - val_recall_1: 1.0000 - val_precision_1: 0.0631 - val_precision_at_recall_1: 0.0631 - val_true_positives_1: 328.0000 - val_true_negatives_1: 0.0000e+00 - val_false_negatives_1: 0.0000e+00 - val_false_positives_1: 4872.0000\n",
      "Epoch 9/10\n",
      "156/156 [==============================] - 330s 2s/step - loss: 1.3260 - auc_2: 0.5000 - auc_3: 0.0716 - recall_1: 1.0000 - precision_1: 0.0656 - precision_at_recall_1: 0.0656 - true_positives_1: 508.5287 - true_negatives_1: 0.0000e+00 - false_negatives_1: 0.0000e+00 - false_positives_1: 7390.8089 - val_loss: 0.6947 - val_auc_2: 0.5000 - val_auc_3: 0.0631 - val_recall_1: 1.0000 - val_precision_1: 0.0631 - val_precision_at_recall_1: 0.0631 - val_true_positives_1: 328.0000 - val_true_negatives_1: 0.0000e+00 - val_false_negatives_1: 0.0000e+00 - val_false_positives_1: 4872.0000\n",
      "Epoch 10/10\n",
      "156/156 [==============================] - 326s 2s/step - loss: 1.2610 - auc_2: 0.5044 - auc_3: 0.0704 - recall_1: 0.3720 - precision_1: 0.0516 - precision_at_recall_1: 0.0591 - true_positives_1: 180.0637 - true_negatives_1: 4446.9108 - false_negatives_1: 310.9618 - false_positives_1: 2961.4013 - val_loss: 0.6951 - val_auc_2: 0.5000 - val_auc_3: 0.0631 - val_recall_1: 1.0000 - val_precision_1: 0.0631 - val_precision_at_recall_1: 0.0631 - val_true_positives_1: 328.0000 - val_true_negatives_1: 0.0000e+00 - val_false_negatives_1: 0.0000e+00 - val_false_positives_1: 4872.0000\n"
     ]
    },
    {
     "data": {
      "text/plain": [
       "<keras.callbacks.History at 0x7fb184ba4e50>"
      ]
     },
     "execution_count": 22,
     "metadata": {},
     "output_type": "execute_result"
    }
   ],
   "source": [
    "NN_transfer.fit(X_train, y_train_array, epochs=10, verbose=1, batch_size = 100, validation_data = (X_valid, y_valid_array), class_weight = class_weights, callbacks = [tensorboard])"
   ]
  },
  {
   "cell_type": "code",
   "execution_count": 132,
   "metadata": {},
   "outputs": [
    {
     "name": "stdout",
     "output_type": "stream",
     "text": [
      "163/163 [==============================] - 93s 541ms/step - loss: 0.6283 - auc_2: 0.5094 - auc_3: 0.0733 - recall_1: 0.0488 - precision_1: 0.0930 - precision_at_recall_1: 0.0631 - true_positives_1: 16.0000 - true_negatives_1: 4716.0000 - false_negatives_1: 312.0000 - false_positives_1: 156.0000\n",
      "[0.6283094882965088, 0.5093634724617004, 0.07332538068294525, 0.04878048598766327, 0.09302325546741486, 0.0630769208073616, 16.0, 4716.0, 312.0, 156.0]\n"
     ]
    }
   ],
   "source": [
    "results = NN_transfer.evaluate(X_test, y_test)\n",
    "print(results)"
   ]
  },
  {
   "cell_type": "code",
   "execution_count": 117,
   "metadata": {},
   "outputs": [
    {
     "data": {
      "text/plain": [
       "0.936923076923077"
      ]
     },
     "execution_count": 117,
     "metadata": {},
     "output_type": "execute_result"
    }
   ],
   "source": [
    "accuracy_score(y_test, np.argmax(NN_transfer.predict(X_test), axis = -1))"
   ]
  },
  {
   "cell_type": "code",
   "execution_count": 118,
   "metadata": {},
   "outputs": [
    {
     "data": {
      "text/plain": [
       "0.0"
      ]
     },
     "execution_count": 118,
     "metadata": {},
     "output_type": "execute_result"
    }
   ],
   "source": [
    "recall_score(y_test, np.argmax(NN_transfer.predict(X_test), axis = -1))"
   ]
  },
  {
   "cell_type": "code",
   "execution_count": 119,
   "metadata": {},
   "outputs": [
    {
     "data": {
      "text/plain": [
       "0.5"
      ]
     },
     "execution_count": 119,
     "metadata": {},
     "output_type": "execute_result"
    }
   ],
   "source": [
    "roc_auc_score(y_test, np.argmax(NN_transfer.predict(X_test), axis = -1))"
   ]
  },
  {
   "cell_type": "code",
   "execution_count": 164,
   "metadata": {},
   "outputs": [
    {
     "data": {
      "image/png": "[encoded data removed]",
      "text/plain": [
       "<Figure size 432x288 with 1 Axes>"
      ]
     },
     "metadata": {
      "needs_background": "light"
     },
     "output_type": "display_data"
    }
   ],
   "source": [
    "from matplotlib import pyplot as plt\n",
    "history = NN_transfer.history\n",
    "plt.plot(history.history['loss'])\n",
    "plt.plot(history.history['val_loss'])\n",
    "plt.ylim(bottom = 0)\n",
    "plt.title('model loss')\n",
    "plt.ylabel('loss')\n",
    "plt.xlabel('epoch')\n",
    "plt.legend(['train', 'validation'], loc='upper left')\n",
    "plt.savefig('best_loss.png')"
   ]
  },
  {
   "cell_type": "code",
   "execution_count": 175,
   "metadata": {},
   "outputs": [
    {
     "data": {
      "image/png": "[encoded data removed]",
      "text/plain": [
       "<Figure size 432x288 with 1 Axes>"
      ]
     },
     "metadata": {
      "needs_background": "light"
     },
     "output_type": "display_data"
    }
   ],
   "source": [
    "from matplotlib import pyplot as plt\n",
    "history = NN_transfer.history\n",
    "plt.plot(history.history['auc_3'])\n",
    "plt.plot(history.history['val_auc_3'])\n",
    "plt.ylim(bottom = 0)\n",
    "plt.title('model AUC-PR')\n",
    "plt.ylabel('AUC-PR')\n",
    "plt.xlabel('epoch')\n",
    "plt.legend(['train', 'val'], loc='upper left')\n",
    "plt.tight_layout()\n",
    "plt.savefig('best_AUC-PR.png')\n",
    "plt.show()"
   ]
  },
  {
   "cell_type": "code",
   "execution_count": 23,
   "metadata": {},
   "outputs": [
    {
     "data": {
      "image/png": "[encoded data removed]",
      "text/plain": [
       "<IPython.core.display.Image object>"
      ]
     },
     "execution_count": 23,
     "metadata": {},
     "output_type": "execute_result"
    }
   ],
   "source": [
    "plot_model(\n",
    "    NN_transfer,\n",
    "    to_file=\"model.png\",\n",
    "    show_shapes=False,\n",
    "    show_dtype=False,\n",
    "    show_layer_names=True,\n",
    "    rankdir=\"TB\",\n",
    "    expand_nested=False,\n",
    "    dpi=96,\n",
    ")"
   ]
  },
  {
   "cell_type": "markdown",
   "metadata": {},
   "source": [
    "Now try resnet50 as pre-trained model, ended it because it was slow and not learning"
   ]
  },
  {
   "cell_type": "code",
   "execution_count": 133,
   "metadata": {},
   "outputs": [],
   "source": [
    "#exclude the final dense layers by setting include_top=False, and add new ones to train from scratch below\n",
    "base_model = ResNet50(weights='imagenet', include_top=False, input_shape=(228,228,3)) \n",
    "\n",
    "# Freeze convolutional layers\n",
    "for layer in base_model.layers:\n",
    "    layer.trainable = False    \n",
    "    \n",
    "# Establish new fully connected block\n",
    "NN_transfer1 = Sequential(\n",
    "                        [InputLayer(input_shape=X_train.shape[1:]),\n",
    "                         ZeroPadding2D(padding=2),\n",
    "                         base_model,\n",
    "                         Flatten(),\n",
    "                         Dense(32, activation='relu'),\n",
    "                         Dense(1, activation='sigmoid')]\n",
    "                       )\n",
    "\n",
    "NN_transfer1.compile(\n",
    "    loss='binary_crossentropy',\n",
    "    optimizer='adam',\n",
    "    metrics=metrics_)"
   ]
  },
  {
   "cell_type": "code",
   "execution_count": 135,
   "metadata": {},
   "outputs": [
    {
     "name": "stdout",
     "output_type": "stream",
     "text": [
      "WARNING:tensorflow:Model failed to serialize as JSON. Ignoring... Layer ModuleWrapper has arguments in `__init__` and therefore must override `get_config`.\n",
      "Epoch 1/10\n",
      "156/156 [==============================] - 1217s 8s/step - loss: 1.3060 - auc_2: 0.5000 - auc_3: 0.0631 - recall_1: 1.0000 - precision_1: 0.0631 - precision_at_recall_1: 0.0631 - true_positives_1: 985.0000 - true_negatives_1: 0.0000e+00 - false_negatives_1: 0.0000e+00 - false_positives_1: 14613.0000 - val_loss: 0.6967 - val_auc_2: 0.5000 - val_auc_3: 0.0631 - val_recall_1: 1.0000 - val_precision_1: 0.0631 - val_precision_at_recall_1: 0.0631 - val_true_positives_1: 328.0000 - val_true_negatives_1: 0.0000e+00 - val_false_negatives_1: 0.0000e+00 - val_false_positives_1: 4872.0000\n",
      "Epoch 2/10\n",
      "156/156 [==============================] - 1193s 8s/step - loss: 1.3060 - auc_2: 0.4917 - auc_3: 0.0610 - recall_1: 1.0000 - precision_1: 0.0631 - precision_at_recall_1: 0.0631 - true_positives_1: 985.0000 - true_negatives_1: 0.0000e+00 - false_negatives_1: 0.0000e+00 - false_positives_1: 14613.0000 - val_loss: 0.6965 - val_auc_2: 0.5000 - val_auc_3: 0.0631 - val_recall_1: 1.0000 - val_precision_1: 0.0631 - val_precision_at_recall_1: 0.0631 - val_true_positives_1: 328.0000 - val_true_negatives_1: 0.0000e+00 - val_false_negatives_1: 0.0000e+00 - val_false_positives_1: 4872.0000\n",
      "Epoch 3/10\n",
      "156/156 [==============================] - 1217s 8s/step - loss: 1.3060 - auc_2: 0.4868 - auc_3: 0.0603 - recall_1: 1.0000 - precision_1: 0.0631 - precision_at_recall_1: 0.0631 - true_positives_1: 985.0000 - true_negatives_1: 0.0000e+00 - false_negatives_1: 0.0000e+00 - false_positives_1: 14613.0000 - val_loss: 0.6966 - val_auc_2: 0.5000 - val_auc_3: 0.0631 - val_recall_1: 1.0000 - val_precision_1: 0.0631 - val_precision_at_recall_1: 0.0631 - val_true_positives_1: 328.0000 - val_true_negatives_1: 0.0000e+00 - val_false_negatives_1: 0.0000e+00 - val_false_positives_1: 4872.0000\n",
      "Epoch 4/10\n",
      " 72/156 [============>.................] - ETA: 8:17 - loss: 1.3077 - auc_2: 0.4918 - auc_3: 0.0623 - recall_1: 1.0000 - precision_1: 0.0633 - precision_at_recall_1: 0.0633 - true_positives_1: 456.0000 - true_negatives_1: 0.0000e+00 - false_negatives_1: 0.0000e+00 - false_positives_1: 6744.0000"
     ]
    },
    {
     "ename": "KeyboardInterrupt",
     "evalue": "",
     "output_type": "error",
     "traceback": [
      "\u001b[0;31m---------------------------------------------------------------------------\u001b[0m",
      "\u001b[0;31mKeyboardInterrupt\u001b[0m                         Traceback (most recent call last)",
      "\u001b[0;32m<ipython-input-135-c3e70b74263b>\u001b[0m in \u001b[0;36m<module>\u001b[0;34m\u001b[0m\n\u001b[0;32m----> 1\u001b[0;31m \u001b[0mNN_transfer1\u001b[0m\u001b[0;34m.\u001b[0m\u001b[0mfit\u001b[0m\u001b[0;34m(\u001b[0m\u001b[0mX_train\u001b[0m\u001b[0;34m,\u001b[0m \u001b[0my_train_array\u001b[0m\u001b[0;34m,\u001b[0m \u001b[0mepochs\u001b[0m\u001b[0;34m=\u001b[0m\u001b[0;36m10\u001b[0m\u001b[0;34m,\u001b[0m \u001b[0mverbose\u001b[0m\u001b[0;34m=\u001b[0m\u001b[0;36m1\u001b[0m\u001b[0;34m,\u001b[0m \u001b[0mbatch_size\u001b[0m \u001b[0;34m=\u001b[0m \u001b[0;36m100\u001b[0m\u001b[0;34m,\u001b[0m \u001b[0mvalidation_data\u001b[0m \u001b[0;34m=\u001b[0m \u001b[0;34m(\u001b[0m\u001b[0mX_valid\u001b[0m\u001b[0;34m,\u001b[0m \u001b[0my_valid_array\u001b[0m\u001b[0;34m)\u001b[0m\u001b[0;34m,\u001b[0m \u001b[0mclass_weight\u001b[0m\u001b[0;34m=\u001b[0m\u001b[0mclass_weights\u001b[0m\u001b[0;34m,\u001b[0m \u001b[0mcallbacks\u001b[0m\u001b[0;34m=\u001b[0m\u001b[0;34m[\u001b[0m\u001b[0mtensorboard\u001b[0m\u001b[0;34m]\u001b[0m\u001b[0;34m)\u001b[0m\u001b[0;34m\u001b[0m\u001b[0;34m\u001b[0m\u001b[0m\n\u001b[0m",
      "\u001b[0;32m/Applications/anaconda3/lib/python3.8/site-packages/keras/engine/training.py\u001b[0m in \u001b[0;36mfit\u001b[0;34m(self, x, y, batch_size, epochs, verbose, callbacks, validation_split, validation_data, shuffle, class_weight, sample_weight, initial_epoch, steps_per_epoch, validation_steps, validation_batch_size, validation_freq, max_queue_size, workers, use_multiprocessing)\u001b[0m\n\u001b[1;32m   1156\u001b[0m                 _r=1):\n\u001b[1;32m   1157\u001b[0m               \u001b[0mcallbacks\u001b[0m\u001b[0;34m.\u001b[0m\u001b[0mon_train_batch_begin\u001b[0m\u001b[0;34m(\u001b[0m\u001b[0mstep\u001b[0m\u001b[0;34m)\u001b[0m\u001b[0;34m\u001b[0m\u001b[0;34m\u001b[0m\u001b[0m\n\u001b[0;32m-> 1158\u001b[0;31m               \u001b[0mtmp_logs\u001b[0m \u001b[0;34m=\u001b[0m \u001b[0mself\u001b[0m\u001b[0;34m.\u001b[0m\u001b[0mtrain_function\u001b[0m\u001b[0;34m(\u001b[0m\u001b[0miterator\u001b[0m\u001b[0;34m)\u001b[0m\u001b[0;34m\u001b[0m\u001b[0;34m\u001b[0m\u001b[0m\n\u001b[0m\u001b[1;32m   1159\u001b[0m               \u001b[0;32mif\u001b[0m \u001b[0mdata_handler\u001b[0m\u001b[0;34m.\u001b[0m\u001b[0mshould_sync\u001b[0m\u001b[0;34m:\u001b[0m\u001b[0;34m\u001b[0m\u001b[0;34m\u001b[0m\u001b[0m\n\u001b[1;32m   1160\u001b[0m                 \u001b[0mcontext\u001b[0m\u001b[0;34m.\u001b[0m\u001b[0masync_wait\u001b[0m\u001b[0;34m(\u001b[0m\u001b[0;34m)\u001b[0m\u001b[0;34m\u001b[0m\u001b[0;34m\u001b[0m\u001b[0m\n",
      "\u001b[0;32m/Applications/anaconda3/lib/python3.8/site-packages/tensorflow/python/eager/def_function.py\u001b[0m in \u001b[0;36m__call__\u001b[0;34m(self, *args, **kwds)\u001b[0m\n\u001b[1;32m    887\u001b[0m \u001b[0;34m\u001b[0m\u001b[0m\n\u001b[1;32m    888\u001b[0m       \u001b[0;32mwith\u001b[0m \u001b[0mOptionalXlaContext\u001b[0m\u001b[0;34m(\u001b[0m\u001b[0mself\u001b[0m\u001b[0;34m.\u001b[0m\u001b[0m_jit_compile\u001b[0m\u001b[0;34m)\u001b[0m\u001b[0;34m:\u001b[0m\u001b[0;34m\u001b[0m\u001b[0;34m\u001b[0m\u001b[0m\n\u001b[0;32m--> 889\u001b[0;31m         \u001b[0mresult\u001b[0m \u001b[0;34m=\u001b[0m \u001b[0mself\u001b[0m\u001b[0;34m.\u001b[0m\u001b[0m_call\u001b[0m\u001b[0;34m(\u001b[0m\u001b[0;34m*\u001b[0m\u001b[0margs\u001b[0m\u001b[0;34m,\u001b[0m \u001b[0;34m**\u001b[0m\u001b[0mkwds\u001b[0m\u001b[0;34m)\u001b[0m\u001b[0;34m\u001b[0m\u001b[0;34m\u001b[0m\u001b[0m\n\u001b[0m\u001b[1;32m    890\u001b[0m \u001b[0;34m\u001b[0m\u001b[0m\n\u001b[1;32m    891\u001b[0m       \u001b[0mnew_tracing_count\u001b[0m \u001b[0;34m=\u001b[0m \u001b[0mself\u001b[0m\u001b[0;34m.\u001b[0m\u001b[0mexperimental_get_tracing_count\u001b[0m\u001b[0;34m(\u001b[0m\u001b[0;34m)\u001b[0m\u001b[0;34m\u001b[0m\u001b[0;34m\u001b[0m\u001b[0m\n",
      "\u001b[0;32m/Applications/anaconda3/lib/python3.8/site-packages/tensorflow/python/eager/def_function.py\u001b[0m in \u001b[0;36m_call\u001b[0;34m(self, *args, **kwds)\u001b[0m\n\u001b[1;32m    915\u001b[0m       \u001b[0;31m# In this case we have created variables on the first call, so we run the\u001b[0m\u001b[0;34m\u001b[0m\u001b[0;34m\u001b[0m\u001b[0;34m\u001b[0m\u001b[0m\n\u001b[1;32m    916\u001b[0m       \u001b[0;31m# defunned version which is guaranteed to never create variables.\u001b[0m\u001b[0;34m\u001b[0m\u001b[0;34m\u001b[0m\u001b[0;34m\u001b[0m\u001b[0m\n\u001b[0;32m--> 917\u001b[0;31m       \u001b[0;32mreturn\u001b[0m \u001b[0mself\u001b[0m\u001b[0;34m.\u001b[0m\u001b[0m_stateless_fn\u001b[0m\u001b[0;34m(\u001b[0m\u001b[0;34m*\u001b[0m\u001b[0margs\u001b[0m\u001b[0;34m,\u001b[0m \u001b[0;34m**\u001b[0m\u001b[0mkwds\u001b[0m\u001b[0;34m)\u001b[0m  \u001b[0;31m# pylint: disable=not-callable\u001b[0m\u001b[0;34m\u001b[0m\u001b[0;34m\u001b[0m\u001b[0m\n\u001b[0m\u001b[1;32m    918\u001b[0m     \u001b[0;32melif\u001b[0m \u001b[0mself\u001b[0m\u001b[0;34m.\u001b[0m\u001b[0m_stateful_fn\u001b[0m \u001b[0;32mis\u001b[0m \u001b[0;32mnot\u001b[0m \u001b[0;32mNone\u001b[0m\u001b[0;34m:\u001b[0m\u001b[0;34m\u001b[0m\u001b[0;34m\u001b[0m\u001b[0m\n\u001b[1;32m    919\u001b[0m       \u001b[0;31m# Release the lock early so that multiple threads can perform the call\u001b[0m\u001b[0;34m\u001b[0m\u001b[0;34m\u001b[0m\u001b[0;34m\u001b[0m\u001b[0m\n",
      "\u001b[0;32m/Applications/anaconda3/lib/python3.8/site-packages/tensorflow/python/eager/function.py\u001b[0m in \u001b[0;36m__call__\u001b[0;34m(self, *args, **kwargs)\u001b[0m\n\u001b[1;32m   3021\u001b[0m       (graph_function,\n\u001b[1;32m   3022\u001b[0m        filtered_flat_args) = self._maybe_define_function(args, kwargs)\n\u001b[0;32m-> 3023\u001b[0;31m     return graph_function._call_flat(\n\u001b[0m\u001b[1;32m   3024\u001b[0m         filtered_flat_args, captured_inputs=graph_function.captured_inputs)  # pylint: disable=protected-access\n\u001b[1;32m   3025\u001b[0m \u001b[0;34m\u001b[0m\u001b[0m\n",
      "\u001b[0;32m/Applications/anaconda3/lib/python3.8/site-packages/tensorflow/python/eager/function.py\u001b[0m in \u001b[0;36m_call_flat\u001b[0;34m(self, args, captured_inputs, cancellation_manager)\u001b[0m\n\u001b[1;32m   1958\u001b[0m         and executing_eagerly):\n\u001b[1;32m   1959\u001b[0m       \u001b[0;31m# No tape is watching; skip to running the function.\u001b[0m\u001b[0;34m\u001b[0m\u001b[0;34m\u001b[0m\u001b[0;34m\u001b[0m\u001b[0m\n\u001b[0;32m-> 1960\u001b[0;31m       return self._build_call_outputs(self._inference_function.call(\n\u001b[0m\u001b[1;32m   1961\u001b[0m           ctx, args, cancellation_manager=cancellation_manager))\n\u001b[1;32m   1962\u001b[0m     forward_backward = self._select_forward_and_backward_functions(\n",
      "\u001b[0;32m/Applications/anaconda3/lib/python3.8/site-packages/tensorflow/python/eager/function.py\u001b[0m in \u001b[0;36mcall\u001b[0;34m(self, ctx, args, cancellation_manager)\u001b[0m\n\u001b[1;32m    589\u001b[0m       \u001b[0;32mwith\u001b[0m \u001b[0m_InterpolateFunctionError\u001b[0m\u001b[0;34m(\u001b[0m\u001b[0mself\u001b[0m\u001b[0;34m)\u001b[0m\u001b[0;34m:\u001b[0m\u001b[0;34m\u001b[0m\u001b[0;34m\u001b[0m\u001b[0m\n\u001b[1;32m    590\u001b[0m         \u001b[0;32mif\u001b[0m \u001b[0mcancellation_manager\u001b[0m \u001b[0;32mis\u001b[0m \u001b[0;32mNone\u001b[0m\u001b[0;34m:\u001b[0m\u001b[0;34m\u001b[0m\u001b[0;34m\u001b[0m\u001b[0m\n\u001b[0;32m--> 591\u001b[0;31m           outputs = execute.execute(\n\u001b[0m\u001b[1;32m    592\u001b[0m               \u001b[0mstr\u001b[0m\u001b[0;34m(\u001b[0m\u001b[0mself\u001b[0m\u001b[0;34m.\u001b[0m\u001b[0msignature\u001b[0m\u001b[0;34m.\u001b[0m\u001b[0mname\u001b[0m\u001b[0;34m)\u001b[0m\u001b[0;34m,\u001b[0m\u001b[0;34m\u001b[0m\u001b[0;34m\u001b[0m\u001b[0m\n\u001b[1;32m    593\u001b[0m               \u001b[0mnum_outputs\u001b[0m\u001b[0;34m=\u001b[0m\u001b[0mself\u001b[0m\u001b[0;34m.\u001b[0m\u001b[0m_num_outputs\u001b[0m\u001b[0;34m,\u001b[0m\u001b[0;34m\u001b[0m\u001b[0;34m\u001b[0m\u001b[0m\n",
      "\u001b[0;32m/Applications/anaconda3/lib/python3.8/site-packages/tensorflow/python/eager/execute.py\u001b[0m in \u001b[0;36mquick_execute\u001b[0;34m(op_name, num_outputs, inputs, attrs, ctx, name)\u001b[0m\n\u001b[1;32m     57\u001b[0m   \u001b[0;32mtry\u001b[0m\u001b[0;34m:\u001b[0m\u001b[0;34m\u001b[0m\u001b[0;34m\u001b[0m\u001b[0m\n\u001b[1;32m     58\u001b[0m     \u001b[0mctx\u001b[0m\u001b[0;34m.\u001b[0m\u001b[0mensure_initialized\u001b[0m\u001b[0;34m(\u001b[0m\u001b[0;34m)\u001b[0m\u001b[0;34m\u001b[0m\u001b[0;34m\u001b[0m\u001b[0m\n\u001b[0;32m---> 59\u001b[0;31m     tensors = pywrap_tfe.TFE_Py_Execute(ctx._handle, device_name, op_name,\n\u001b[0m\u001b[1;32m     60\u001b[0m                                         inputs, attrs, num_outputs)\n\u001b[1;32m     61\u001b[0m   \u001b[0;32mexcept\u001b[0m \u001b[0mcore\u001b[0m\u001b[0;34m.\u001b[0m\u001b[0m_NotOkStatusException\u001b[0m \u001b[0;32mas\u001b[0m \u001b[0me\u001b[0m\u001b[0;34m:\u001b[0m\u001b[0;34m\u001b[0m\u001b[0;34m\u001b[0m\u001b[0m\n",
      "\u001b[0;31mKeyboardInterrupt\u001b[0m: "
     ]
    }
   ],
   "source": [
    "NN_transfer1.fit(X_train, y_train_array, epochs=10, verbose=1, batch_size = 100, validation_data = (X_valid, y_valid_array), class_weight=class_weights, callbacks=[tensorboard])"
   ]
  },
  {
   "cell_type": "code",
   "execution_count": null,
   "metadata": {},
   "outputs": [],
   "source": [
    "accuracy_score(y_test, np.argmax(NN_transfer1.predict(X_test), axis = -1))"
   ]
  },
  {
   "cell_type": "code",
   "execution_count": null,
   "metadata": {},
   "outputs": [],
   "source": [
    "recall_score(y_test, np.argmax(NN_transfer1.predict(X_test), axis = -1))"
   ]
  },
  {
   "cell_type": "code",
   "execution_count": null,
   "metadata": {},
   "outputs": [],
   "source": [
    "roc_auc_score(y_test, np.argmax(NN_transfer1.predict(X_test), axis = -1))"
   ]
  }
 ],
 "metadata": {
  "kernelspec": {
   "display_name": "Python 3",
   "language": "python",
   "name": "python3"
  },
  "language_info": {
   "codemirror_mode": {
    "name": "ipython",
    "version": 3
   },
   "file_extension": ".py",
   "mimetype": "text/x-python",
   "name": "python",
   "nbconvert_exporter": "python",
   "pygments_lexer": "ipython3",
   "version": "3.8.5"
  }
 },
 "nbformat": 4,
 "nbformat_minor": 5
}
